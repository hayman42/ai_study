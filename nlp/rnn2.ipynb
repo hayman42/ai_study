{
 "cells": [
  {
   "cell_type": "markdown",
   "id": "206689d7-0cff-404a-bfe0-e1d3c67d442b",
   "metadata": {},
   "source": [
    "# RNN으로 이름 생성하기\n",
    "https://tutorials.pytorch.kr/intermediate/char_rnn_generation_tutorial.html"
   ]
  },
  {
   "cell_type": "code",
   "execution_count": 6,
   "id": "8a351add-9b13-484a-9a84-306a1af74cdc",
   "metadata": {},
   "outputs": [],
   "source": [
    "import torch\n",
    "import torch.nn as nn\n",
    "import torch.optim as optim\n",
    "from torch.utils.data import DataLoader, TensorDataset\n",
    "\n",
    "import os\n",
    "import unicodedata\n",
    "import string\n",
    "import random\n",
    "from time import time\n",
    "import matplotlib.pyplot as plt"
   ]
  },
  {
   "cell_type": "code",
   "execution_count": 103,
   "id": "b69be829-5faf-46d3-a85a-f3b5379dbed2",
   "metadata": {},
   "outputs": [],
   "source": [
    "all_letters = string.ascii_letters + \" .,-\"\n",
    "n_letters = len(all_letters) + 1\n",
    "\n",
    "def utoa(s):\n",
    "    return ''.join(\n",
    "        c for c in unicodedata.normalize('NFD', s)\n",
    "        if unicodedata.category(c) != 'Mn' and c in all_letters\n",
    "    )\n",
    "\n",
    "def one_hot(s):\n",
    "    tensor = torch.zeros(len(s), 1, n_letters)\n",
    "    for i, c in enumerate(s):\n",
    "        tensor[i][0][all_letters.find(c)] = 1\n",
    "    return tensor\n",
    "\n",
    "def load_name_data(path):\n",
    "    # path = \"../data/names/\"\n",
    "    data = {}\n",
    "    for i, j in enumerate(os.listdir(path)):\n",
    "        with open(path + j, \"r\") as f:\n",
    "            key = j[:-4]\n",
    "            data[key] = [utoa(s) for s in f.read().split()]\n",
    "    label = list(data.keys())\n",
    "    return data, label\n",
    "\n",
    "def random_sample(data, label):\n",
    "    key = random.choice(label)\n",
    "    z = torch.zeros(1, len(label))\n",
    "    y = torch.tensor([label.index(key)], dtype=torch.long)\n",
    "    z[0][y] = 1\n",
    "    item = random.choice(data[key])\n",
    "    x = one_hot(item)\n",
    "    target = torch.zeros(len(item), dtype=torch.long)\n",
    "    target[:-1] = torch.where(x==1)[2][1:]\n",
    "    target[-1] = n_letters - 1\n",
    "    return x, item, y, key, z, target"
   ]
  },
  {
   "cell_type": "code",
   "execution_count": 104,
   "id": "e2cc636d-e99f-40e6-ad35-284346e9cd21",
   "metadata": {},
   "outputs": [],
   "source": [
    "import torch\n",
    "import torch.nn as nn\n",
    "\n",
    "class RNN(nn.Module):\n",
    "    def __init__(self, n_categories, input_size, hidden_size, output_size):\n",
    "        super(RNN, self).__init__()\n",
    "        self.hidden_size = hidden_size\n",
    "\n",
    "        self.i2h = nn.Linear(n_categories + input_size + hidden_size, hidden_size)\n",
    "        self.i2o = nn.Linear(n_categories + input_size + hidden_size, output_size)\n",
    "        self.o2o = nn.Linear(hidden_size + output_size, output_size)\n",
    "        self.dropout = nn.Dropout(0.1)\n",
    "        self.softmax = nn.LogSoftmax(dim=1)\n",
    "\n",
    "    def forward(self, category, input, hidden):\n",
    "        input_combined = torch.cat((category, input, hidden), 1)\n",
    "        hidden = self.i2h(input_combined)\n",
    "        output = self.i2o(input_combined)\n",
    "        output_combined = torch.cat((hidden, output), 1)\n",
    "        output = self.o2o(output_combined)\n",
    "        output = self.dropout(output)\n",
    "        output = self.softmax(output)\n",
    "        return output, hidden\n",
    "\n",
    "    def initHidden(self):\n",
    "        return torch.zeros(1, self.hidden_size)"
   ]
  },
  {
   "cell_type": "code",
   "execution_count": 107,
   "id": "dfb63b2f-dd1d-40e4-89e1-0bd11172f851",
   "metadata": {},
   "outputs": [
    {
     "data": {
      "text/plain": [
       "tensor([ 8,  9, 13,  3,  4, 17, 18, 56])"
      ]
     },
     "execution_count": 107,
     "metadata": {},
     "output_type": "execute_result"
    }
   ],
   "source": [
    "data, label = load_name_data(\"../data/names/\")\n",
    "x, item, y, key, z, target = random_sample(data, label)\n",
    "target"
   ]
  },
  {
   "cell_type": "code",
   "execution_count": 108,
   "id": "b6179c5e-f36d-4e0a-9b42-8af6d4d46fb7",
   "metadata": {},
   "outputs": [
    {
     "data": {
      "text/plain": [
       "18"
      ]
     },
     "execution_count": 108,
     "metadata": {},
     "output_type": "execute_result"
    }
   ],
   "source": [
    "n_hidden = 128\n",
    "n_output = len(data.keys())\n",
    "rnn = RNN(n_output, n_letters, n_hidden, n_letters)\n",
    "\n",
    "criterion = nn.NLLLoss()\n",
    "optimizer = optim.SGD(rnn.parameters(), lr=0.005)\n",
    "n_iters = 100000\n",
    "plot_every = 5000\n",
    "\n",
    "n_output"
   ]
  },
  {
   "cell_type": "code",
   "execution_count": 109,
   "id": "71c7b06c-9174-4396-89e0-d7f00df8b6e4",
   "metadata": {},
   "outputs": [
    {
     "name": "stdout",
     "output_type": "stream",
     "text": [
      "5000 17.4610s 2.7014\n",
      "10000 36.0258s 2.4527\n",
      "15000 53.1676s 2.3940\n",
      "20000 69.6561s 2.3393\n",
      "25000 88.1974s 2.3324\n",
      "30000 106.7009s 2.2991\n",
      "35000 124.6181s 2.2912\n",
      "40000 141.2460s 2.2767\n",
      "45000 158.0062s 2.2769\n",
      "50000 177.2050s 2.2585\n",
      "55000 194.2241s 2.2548\n",
      "60000 210.7808s 2.2422\n",
      "65000 228.5170s 2.2338\n",
      "70000 247.4807s 2.2431\n",
      "75000 266.8652s 2.2424\n",
      "80000 286.4062s 2.2432\n",
      "85000 305.0896s 2.2493\n",
      "90000 323.7011s 2.2381\n",
      "95000 341.9143s 2.2296\n",
      "100000 360.2081s 2.2239\n"
     ]
    }
   ],
   "source": [
    "all_losses = []\n",
    "cur_loss = 0\n",
    "start_time = time()\n",
    "\n",
    "for iter in range(1, n_iters + 1):\n",
    "    x, item, y, key, z, target = random_sample(data, label)\n",
    "    optimizer.zero_grad()\n",
    "    h = rnn.initHidden()\n",
    "    loss = 0\n",
    "    for i in range(len(item)):\n",
    "        out, h = rnn(z, x[i], h)\n",
    "        loss += criterion(out, torch.LongTensor([target[i]]))\n",
    "    loss.backward()\n",
    "    optimizer.step()\n",
    "    cur_loss += loss.item() / len(item)\n",
    "    \n",
    "    if iter % plot_every == 0:\n",
    "        plot_loss = cur_loss / plot_every\n",
    "        all_losses.append(plot_loss)\n",
    "        cur_loss = 0\n",
    "        print(\"%d %.4fs %.4f\" % (iter, time() - start_time, plot_loss))"
   ]
  },
  {
   "cell_type": "code",
   "execution_count": 110,
   "id": "d02d26e3-350a-4c74-9876-7305c05c2804",
   "metadata": {},
   "outputs": [
    {
     "data": {
      "image/png": "[encoded data removed]",
      "text/plain": [
       "<Figure size 432x288 with 1 Axes>"
      ]
     },
     "metadata": {
      "needs_background": "light"
     },
     "output_type": "display_data"
    }
   ],
   "source": [
    "plt.figure()\n",
    "plt.plot(all_losses)\n",
    "plt.show()"
   ]
  },
  {
   "cell_type": "code",
   "execution_count": 193,
   "id": "e4a69b57-4433-42d3-8cdb-7316edc37154",
   "metadata": {},
   "outputs": [],
   "source": [
    "def sample(category, start_letters='Me', max_length=10):\n",
    "    with torch.no_grad():\n",
    "        result = start_letters\n",
    "        x = one_hot(start_letters)\n",
    "        z = torch.zeros(1, n_output)\n",
    "        z[0][label.index(category)] = 1\n",
    "        h = rnn.initHidden()\n",
    "        for i in range(len(start_letters)):\n",
    "            out, h = rnn(z, x[i], h)\n",
    "        while len(result) < max_length:\n",
    "            idx = out.argmax()\n",
    "            if idx == n_letters - 1:\n",
    "                break\n",
    "            x = one_hot(all_letters[idx])\n",
    "            out, h = rnn(z, x[0], h)\n",
    "            result = result + all_letters[idx]\n",
    "        \n",
    "    return result"
   ]
  },
  {
   "cell_type": "code",
   "execution_count": 194,
   "id": "d89f1042-056f-4178-bc13-ee846413c153",
   "metadata": {},
   "outputs": [
    {
     "name": "stdout",
     "output_type": "stream",
     "text": [
      "Merron\n",
      "Men\n",
      "Mei\n",
      "Metson\n"
     ]
    }
   ],
   "source": [
    "print(sample(\"English\"))\n",
    "print(sample(\"Korean\"))\n",
    "print(sample(\"Chinese\"))\n",
    "print(sample(\"Japanese\"))"
   ]
  },
  {
   "cell_type": "code",
   "execution_count": null,
   "id": "33a4b857-b9f2-43e8-9813-c9e55a1eae9a",
   "metadata": {},
   "outputs": [],
   "source": []
  }
 ],
 "metadata": {
  "kernelspec": {
   "display_name": "ai",
   "language": "python",
   "name": "ai"
  },
  "language_info": {
   "codemirror_mode": {
    "name": "ipython",
    "version": 3
   },
   "file_extension": ".py",
   "mimetype": "text/x-python",
   "name": "python",
   "nbconvert_exporter": "python",
   "pygments_lexer": "ipython3",
   "version": "3.8.8"
  }
 },
 "nbformat": 4,
 "nbformat_minor": 5
}

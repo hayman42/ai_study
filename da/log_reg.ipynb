{
 "cells": [
  {
   "cell_type": "markdown",
   "id": "9b13397e-1172-4bac-9d01-48ae163febb9",
   "metadata": {
    "id": "9b13397e-1172-4bac-9d01-48ae163febb9"
   },
   "source": [
    "# Logistic Regression\n",
    "## 개요\n",
    "다음과 같은 함수를 모델로 사용하는 회귀를 Logistic Regression 이라 한다.\n",
    "\n",
    "$$\\pi(X;\\beta) = {1 \\over {1+e^-({\\beta_0 + \\beta X}})} $$\n",
    "\n",
    "이 때 $Y$ 는 (0, 1) 의 값을 가지기 때문에 일반적으로 Binary Classification (True/False) 문제에 쓰인다.\n",
    "\n",
    "모델이 확률을 반환하여 특정 값(cut off, 일반적으로 0.5) 이상일 경우 True, 그렇지 않을 경우 False 로 판단 하는 형태로 문제를 해결한다."
   ]
  },
  {
   "cell_type": "markdown",
   "id": "8137baae-477a-411b-be0f-3b48bdfe5bf1",
   "metadata": {
    "id": "8137baae-477a-411b-be0f-3b48bdfe5bf1"
   },
   "source": [
    "## Loss Function\n",
    "일반적으로는 Maximum Likelihood Function 이라는 다음 함수를 쓴다.\n",
    "\n",
    "$$ L = \\prod_{i=1}^n {\\pi(X_i; \\beta)^{y_i}(1-\\pi(X_i; \\beta))^{(1-y_i)}} $$\n",
    "\n",
    "이 때 $X_i$는 각 요소 값, $y_i \\in \\{0, 1\\}$는 분류를 뜻한다. 위 함수를 최대화 한다는 것은 음을 취한 함수를 최소화 한다는 것과 같다.\n",
    "\n",
    "일반적으로 Loss function 은 실패를 뜻하기 때문에 최소화 할 수 있는 함수로 정한다. 따라서 원래 함수에 음을 취해 다음과 같이 정의하자.\n",
    "\n",
    "$$ L = \\prod_{i=1}^n -{\\pi(X_i; \\beta)^{y_i}(1-\\pi(X_i; \\beta))^{(1-y_i)}} $$\n",
    "\n",
    "이 때 $L^* = \\log L$ 로 정의 하자. 그렇다면 $L$ 을 최소화 하는 문제는 $L^*$을 최소화 하는 문제와 같다. 따라서,\n",
    "A\n",
    "$$ L^* = -\\sum_{i=1}^n {y_i}\\log{\\pi(X_i; \\beta)} - {(1-y_i)}\\log{(1-\\pi(X_i; \\beta))}$$\n",
    "$$ {\\delta \\over {\\delta \\beta}} L^* = -\\sum_{i=1}^n\n",
    "{y_i}{\\delta \\pi \\over {\\delta \\beta}}{1 \\over \\pi} + (1-y_i){\\delta \\pi \\over {\\delta \\beta}}{1 \\over {1-\\pi}} $$\n",
    "\n",
    "이 때,\n",
    "\n",
    "$$ {\\delta \\pi \\over {\\delta \\beta}} = {{Xe^{-\\beta X}} \\over ({{1+e^{-\\beta X}}})^2} = X\\pi(1-\\pi)$$\n",
    "\n",
    "이므로\n",
    "\n",
    "$$ {\\delta \\over {\\delta \\beta}} L^* = \\sum_{i=1}^n X_i{(\\pi-y_i)}$$"
   ]
  },
  {
   "cell_type": "markdown",
   "id": "8b6735e8-891e-40c8-b08a-8fb8184dd69e",
   "metadata": {
    "id": "8b6735e8-891e-40c8-b08a-8fb8184dd69e"
   },
   "source": [
    "$X = \\begin{bmatrix}X_1 \\\\ \\cdots \\\\ X_n\\end{bmatrix}$, $\\pi = \\begin{bmatrix}\\pi_1 \\\\ \\cdots \\\\ \\pi_n\\end{bmatrix}$, $y = \\begin{bmatrix}y_1 \\\\ \\cdots \\\\ y_n\\end{bmatrix}$ 이라 하면\n",
    "\n",
    "$$ {\\delta \\over {\\delta \\beta}} L^* = X^T(\\pi-y) $$\n",
    "\n",
    "따라서 Gradient Descent 방법을 이용 할 경우, 초기 $\\beta$ 에서 $ \\beta \\to \\beta - \\alpha\\sum_{i=1}^n X_i{(\\pi-y_i)} $ 를 통해 최적화 하면 된다."
   ]
  },
  {
   "cell_type": "markdown",
   "id": "6787cd7c-0c11-43b2-879a-cf10df7281f9",
   "metadata": {
    "id": "6787cd7c-0c11-43b2-879a-cf10df7281f9"
   },
   "source": [
    "## 평가\n",
    "로지스틱 회귀 모델은 대표적으로 두가지 방법으로 평가 할 수 있다.\n",
    "1. Accuracy Score\n",
    "\n",
    "(정답을 맞춘 데이터의 수) / (모든 데이터의 수)\n",
    "\n",
    "2. 오차 행렬\n",
    "\n",
    "오차 행렬은 다음과 같다.\n",
    "\n",
    "$$ \\begin{bmatrix}True Negative & False Positive \\\\ False Negative & True Positive\\end{bmatrix} $$\n",
    "\n",
    "오차 행렬을 통해 정밀도, 재현율 등을 알 수 있다."
   ]
  },
  {
   "cell_type": "markdown",
   "id": "3855cd66-e0a6-4461-b773-8adc469a0141",
   "metadata": {
    "id": "3855cd66-e0a6-4461-b773-8adc469a0141"
   },
   "source": [
    "## 실습: 위스콘신 유방암 환자 데이터"
   ]
  },
  {
   "cell_type": "code",
   "execution_count": 3,
   "id": "9b24892f-c0a5-432e-8a1b-d6f32ba3f9dd",
   "metadata": {
    "executionInfo": {
     "elapsed": 2792,
     "status": "ok",
     "timestamp": 1621433774558,
     "user": {
      "displayName": "백보이",
      "photoUrl": "",
      "userId": "06027114131747277966"
     },
     "user_tz": -540
    },
    "id": "9b24892f-c0a5-432e-8a1b-d6f32ba3f9dd"
   },
   "outputs": [],
   "source": [
    "import pandas as pd\n",
    "import matplotlib.pyplot as plt\n",
    "import numpy as np\n",
    "from sklearn.model_selection import train_test_split # 학습 데이터와 테스트 데이터를 분리 해주는 함수\n",
    "\n",
    "from sklearn.datasets import load_breast_cancer # 유방암 환자 데이터"
   ]
  },
  {
   "cell_type": "code",
   "execution_count": 4,
   "id": "bf52cfd1-406f-4b43-acbc-a0ff6338c196",
   "metadata": {
    "colab": {
     "base_uri": "https://localhost:8080/"
    },
    "executionInfo": {
     "elapsed": 2765,
     "status": "ok",
     "timestamp": 1621433774562,
     "user": {
      "displayName": "백보이",
      "photoUrl": "",
      "userId": "06027114131747277966"
     },
     "user_tz": -540
    },
    "id": "bf52cfd1-406f-4b43-acbc-a0ff6338c196",
    "outputId": "e93f09b6-c826-40b2-9731-e0acead3afd3"
   },
   "outputs": [
    {
     "data": {
      "text/plain": [
       "(569, 30)"
      ]
     },
     "execution_count": 4,
     "metadata": {},
     "output_type": "execute_result"
    }
   ],
   "source": [
    "cancer = load_breast_cancer()\n",
    "\n",
    "cancer['data'].shape"
   ]
  },
  {
   "cell_type": "code",
   "execution_count": 5,
   "id": "03344304-7c9b-4e69-a13b-5ccab5c1a56d",
   "metadata": {
    "colab": {
     "base_uri": "https://localhost:8080/",
     "height": 258
    },
    "executionInfo": {
     "elapsed": 2752,
     "status": "ok",
     "timestamp": 1621433774564,
     "user": {
      "displayName": "백보이",
      "photoUrl": "",
      "userId": "06027114131747277966"
     },
     "user_tz": -540
    },
    "id": "03344304-7c9b-4e69-a13b-5ccab5c1a56d",
    "outputId": "75b5ce8e-945d-4593-f1a6-65bff5320a10"
   },
   "outputs": [
    {
     "data": {
      "text/html": [
       "<div>\n",
       "<style scoped>\n",
       "    .dataframe tbody tr th:only-of-type {\n",
       "        vertical-align: middle;\n",
       "    }\n",
       "\n",
       "    .dataframe tbody tr th {\n",
       "        vertical-align: top;\n",
       "    }\n",
       "\n",
       "    .dataframe thead th {\n",
       "        text-align: right;\n",
       "    }\n",
       "</style>\n",
       "<table border=\"1\" class=\"dataframe\">\n",
       "  <thead>\n",
       "    <tr style=\"text-align: right;\">\n",
       "      <th></th>\n",
       "      <th>mean radius</th>\n",
       "      <th>mean texture</th>\n",
       "      <th>mean perimeter</th>\n",
       "      <th>mean area</th>\n",
       "      <th>mean smoothness</th>\n",
       "      <th>mean compactness</th>\n",
       "      <th>mean concavity</th>\n",
       "      <th>mean concave points</th>\n",
       "      <th>mean symmetry</th>\n",
       "      <th>mean fractal dimension</th>\n",
       "      <th>...</th>\n",
       "      <th>worst texture</th>\n",
       "      <th>worst perimeter</th>\n",
       "      <th>worst area</th>\n",
       "      <th>worst smoothness</th>\n",
       "      <th>worst compactness</th>\n",
       "      <th>worst concavity</th>\n",
       "      <th>worst concave points</th>\n",
       "      <th>worst symmetry</th>\n",
       "      <th>worst fractal dimension</th>\n",
       "      <th>target</th>\n",
       "    </tr>\n",
       "  </thead>\n",
       "  <tbody>\n",
       "    <tr>\n",
       "      <th>0</th>\n",
       "      <td>17.99</td>\n",
       "      <td>10.38</td>\n",
       "      <td>122.80</td>\n",
       "      <td>1001.0</td>\n",
       "      <td>0.11840</td>\n",
       "      <td>0.27760</td>\n",
       "      <td>0.3001</td>\n",
       "      <td>0.14710</td>\n",
       "      <td>0.2419</td>\n",
       "      <td>0.07871</td>\n",
       "      <td>...</td>\n",
       "      <td>17.33</td>\n",
       "      <td>184.60</td>\n",
       "      <td>2019.0</td>\n",
       "      <td>0.1622</td>\n",
       "      <td>0.6656</td>\n",
       "      <td>0.7119</td>\n",
       "      <td>0.2654</td>\n",
       "      <td>0.4601</td>\n",
       "      <td>0.11890</td>\n",
       "      <td>0</td>\n",
       "    </tr>\n",
       "    <tr>\n",
       "      <th>1</th>\n",
       "      <td>20.57</td>\n",
       "      <td>17.77</td>\n",
       "      <td>132.90</td>\n",
       "      <td>1326.0</td>\n",
       "      <td>0.08474</td>\n",
       "      <td>0.07864</td>\n",
       "      <td>0.0869</td>\n",
       "      <td>0.07017</td>\n",
       "      <td>0.1812</td>\n",
       "      <td>0.05667</td>\n",
       "      <td>...</td>\n",
       "      <td>23.41</td>\n",
       "      <td>158.80</td>\n",
       "      <td>1956.0</td>\n",
       "      <td>0.1238</td>\n",
       "      <td>0.1866</td>\n",
       "      <td>0.2416</td>\n",
       "      <td>0.1860</td>\n",
       "      <td>0.2750</td>\n",
       "      <td>0.08902</td>\n",
       "      <td>0</td>\n",
       "    </tr>\n",
       "    <tr>\n",
       "      <th>2</th>\n",
       "      <td>19.69</td>\n",
       "      <td>21.25</td>\n",
       "      <td>130.00</td>\n",
       "      <td>1203.0</td>\n",
       "      <td>0.10960</td>\n",
       "      <td>0.15990</td>\n",
       "      <td>0.1974</td>\n",
       "      <td>0.12790</td>\n",
       "      <td>0.2069</td>\n",
       "      <td>0.05999</td>\n",
       "      <td>...</td>\n",
       "      <td>25.53</td>\n",
       "      <td>152.50</td>\n",
       "      <td>1709.0</td>\n",
       "      <td>0.1444</td>\n",
       "      <td>0.4245</td>\n",
       "      <td>0.4504</td>\n",
       "      <td>0.2430</td>\n",
       "      <td>0.3613</td>\n",
       "      <td>0.08758</td>\n",
       "      <td>0</td>\n",
       "    </tr>\n",
       "    <tr>\n",
       "      <th>3</th>\n",
       "      <td>11.42</td>\n",
       "      <td>20.38</td>\n",
       "      <td>77.58</td>\n",
       "      <td>386.1</td>\n",
       "      <td>0.14250</td>\n",
       "      <td>0.28390</td>\n",
       "      <td>0.2414</td>\n",
       "      <td>0.10520</td>\n",
       "      <td>0.2597</td>\n",
       "      <td>0.09744</td>\n",
       "      <td>...</td>\n",
       "      <td>26.50</td>\n",
       "      <td>98.87</td>\n",
       "      <td>567.7</td>\n",
       "      <td>0.2098</td>\n",
       "      <td>0.8663</td>\n",
       "      <td>0.6869</td>\n",
       "      <td>0.2575</td>\n",
       "      <td>0.6638</td>\n",
       "      <td>0.17300</td>\n",
       "      <td>0</td>\n",
       "    </tr>\n",
       "    <tr>\n",
       "      <th>4</th>\n",
       "      <td>20.29</td>\n",
       "      <td>14.34</td>\n",
       "      <td>135.10</td>\n",
       "      <td>1297.0</td>\n",
       "      <td>0.10030</td>\n",
       "      <td>0.13280</td>\n",
       "      <td>0.1980</td>\n",
       "      <td>0.10430</td>\n",
       "      <td>0.1809</td>\n",
       "      <td>0.05883</td>\n",
       "      <td>...</td>\n",
       "      <td>16.67</td>\n",
       "      <td>152.20</td>\n",
       "      <td>1575.0</td>\n",
       "      <td>0.1374</td>\n",
       "      <td>0.2050</td>\n",
       "      <td>0.4000</td>\n",
       "      <td>0.1625</td>\n",
       "      <td>0.2364</td>\n",
       "      <td>0.07678</td>\n",
       "      <td>0</td>\n",
       "    </tr>\n",
       "  </tbody>\n",
       "</table>\n",
       "<p>5 rows × 31 columns</p>\n",
       "</div>"
      ],
      "text/plain": [
       "   mean radius  mean texture  mean perimeter  mean area  mean smoothness  \\\n",
       "0        17.99         10.38          122.80     1001.0          0.11840   \n",
       "1        20.57         17.77          132.90     1326.0          0.08474   \n",
       "2        19.69         21.25          130.00     1203.0          0.10960   \n",
       "3        11.42         20.38           77.58      386.1          0.14250   \n",
       "4        20.29         14.34          135.10     1297.0          0.10030   \n",
       "\n",
       "   mean compactness  mean concavity  mean concave points  mean symmetry  \\\n",
       "0           0.27760          0.3001              0.14710         0.2419   \n",
       "1           0.07864          0.0869              0.07017         0.1812   \n",
       "2           0.15990          0.1974              0.12790         0.2069   \n",
       "3           0.28390          0.2414              0.10520         0.2597   \n",
       "4           0.13280          0.1980              0.10430         0.1809   \n",
       "\n",
       "   mean fractal dimension  ...  worst texture  worst perimeter  worst area  \\\n",
       "0                 0.07871  ...          17.33           184.60      2019.0   \n",
       "1                 0.05667  ...          23.41           158.80      1956.0   \n",
       "2                 0.05999  ...          25.53           152.50      1709.0   \n",
       "3                 0.09744  ...          26.50            98.87       567.7   \n",
       "4                 0.05883  ...          16.67           152.20      1575.0   \n",
       "\n",
       "   worst smoothness  worst compactness  worst concavity  worst concave points  \\\n",
       "0            0.1622             0.6656           0.7119                0.2654   \n",
       "1            0.1238             0.1866           0.2416                0.1860   \n",
       "2            0.1444             0.4245           0.4504                0.2430   \n",
       "3            0.2098             0.8663           0.6869                0.2575   \n",
       "4            0.1374             0.2050           0.4000                0.1625   \n",
       "\n",
       "   worst symmetry  worst fractal dimension  target  \n",
       "0          0.4601                  0.11890       0  \n",
       "1          0.2750                  0.08902       0  \n",
       "2          0.3613                  0.08758       0  \n",
       "3          0.6638                  0.17300       0  \n",
       "4          0.2364                  0.07678       0  \n",
       "\n",
       "[5 rows x 31 columns]"
      ]
     },
     "execution_count": 5,
     "metadata": {},
     "output_type": "execute_result"
    }
   ],
   "source": [
    "df = pd.DataFrame(cancer['data'], columns=cancer['feature_names'])\n",
    "df['target'] = cancer['target']\n",
    "df.head()"
   ]
  },
  {
   "cell_type": "code",
   "execution_count": 6,
   "id": "caee6650-3315-403c-a6d2-211030cca6d9",
   "metadata": {
    "colab": {
     "base_uri": "https://localhost:8080/"
    },
    "executionInfo": {
     "elapsed": 678,
     "status": "ok",
     "timestamp": 1621433778901,
     "user": {
      "displayName": "백보이",
      "photoUrl": "",
      "userId": "06027114131747277966"
     },
     "user_tz": -540
    },
    "id": "caee6650-3315-403c-a6d2-211030cca6d9",
    "outputId": "65785220-bed5-44d1-d2fd-06c4d92c4d73"
   },
   "outputs": [
    {
     "data": {
      "text/plain": [
       "((398, 30), (171, 30))"
      ]
     },
     "execution_count": 6,
     "metadata": {},
     "output_type": "execute_result"
    }
   ],
   "source": [
    "# train_test_split\n",
    "X_tr, X_tst, y_tr, y_tst = train_test_split(df.drop('target', axis=1), df['target'],  test_size=0.3)\n",
    "\n",
    "X_tr.shape, X_tst.shape"
   ]
  },
  {
   "cell_type": "code",
   "execution_count": 7,
   "id": "e92d1d03-4709-4c18-9ad8-df51f735dfd7",
   "metadata": {
    "executionInfo": {
     "elapsed": 601,
     "status": "ok",
     "timestamp": 1621433781543,
     "user": {
      "displayName": "백보이",
      "photoUrl": "",
      "userId": "06027114131747277966"
     },
     "user_tz": -540
    },
    "id": "e92d1d03-4709-4c18-9ad8-df51f735dfd7"
   },
   "outputs": [],
   "source": [
    "def standardize(X):\n",
    "    return (X - X.mean()) / X.std()\n",
    "\n",
    "def log_model(X, beta):\n",
    "    return 1 / (1 + np.exp(-X.dot(beta)))\n",
    "\n",
    "def loss(y, y_hat):\n",
    "    return -np.sum(y.dot(np.log(y_hat)) + (1 - y).dot(1 - np.log(y_hat)))\n",
    "\n",
    "def grad(X, y, y_hat):\n",
    "    return (X.T).dot(y_hat - y)\n",
    "\n",
    "def acc_score(y, y_hat, cut_off):\n",
    "    return np.sum(y == (y_hat > cut_off)) / y.shape[0]"
   ]
  },
  {
   "cell_type": "code",
   "execution_count": 8,
   "id": "3c182d80-2ba2-4c4d-b1fe-3e29bbf58608",
   "metadata": {
    "colab": {
     "base_uri": "https://localhost:8080/"
    },
    "executionInfo": {
     "elapsed": 1368,
     "status": "ok",
     "timestamp": 1621433795582,
     "user": {
      "displayName": "백보이",
      "photoUrl": "",
      "userId": "06027114131747277966"
     },
     "user_tz": -540
    },
    "id": "3c182d80-2ba2-4c4d-b1fe-3e29bbf58608",
    "outputId": "fcd376e3-0100-49f1-e57c-543097094472"
   },
   "outputs": [
    {
     "data": {
      "text/plain": [
       "array([[-0.82839735,  0.10115872, -0.86281781, ..., -0.57747541,\n",
       "        -0.43857354,  1.        ],\n",
       "       [ 0.48236793, -0.33761223,  0.52579449, ...,  2.18110754,\n",
       "         2.07467563,  1.        ],\n",
       "       [-0.54848033, -0.7831335 , -0.56992563, ..., -0.69825399,\n",
       "        -1.13495188,  1.        ],\n",
       "       ...,\n",
       "       [ 0.52004906,  0.29916818,  0.52190482, ...,  0.30179272,\n",
       "        -0.12581601,  1.        ],\n",
       "       [-0.42197937,  0.69518709, -0.45751416, ..., -0.13945173,\n",
       "        -0.1966793 ,  1.        ],\n",
       "       [ 1.36249163, -0.270109  ,  1.31150789, ...,  1.08604835,\n",
       "        -0.34586517,  1.        ]])"
      ]
     },
     "execution_count": 8,
     "metadata": {},
     "output_type": "execute_result"
    }
   ],
   "source": [
    "X_tr = standardize(X_tr)\n",
    "X_tst = standardize(X_tst)\n",
    "X_tr['constant'] = 1\n",
    "X_tst['constant'] = 1\n",
    "\n",
    "X_tr, y_tr, X_tst, y_tst = map(lambda data: np.array(data), [X_tr, y_tr, X_tst, y_tst]) # 빠른 연산을 위해 DataFrame 을 ndarray 로 형 변환\n",
    "\n",
    "X_tr"
   ]
  },
  {
   "cell_type": "code",
   "execution_count": 9,
   "id": "62769f9f-a4ec-43c3-a261-9fe5916057bc",
   "metadata": {
    "colab": {
     "base_uri": "https://localhost:8080/"
    },
    "executionInfo": {
     "elapsed": 894,
     "status": "ok",
     "timestamp": 1621433799150,
     "user": {
      "displayName": "백보이",
      "photoUrl": "",
      "userId": "06027114131747277966"
     },
     "user_tz": -540
    },
    "id": "62769f9f-a4ec-43c3-a261-9fe5916057bc",
    "outputId": "55145772-e513-4cbd-ce19-186f3e2212b3"
   },
   "outputs": [
    {
     "data": {
      "text/plain": [
       "0.2046783625730994"
      ]
     },
     "execution_count": 9,
     "metadata": {},
     "output_type": "execute_result"
    }
   ],
   "source": [
    "beta = np.random.random(31)\n",
    "\n",
    "y_tst_hat = log_model(X_tst, beta)\n",
    "initial_accuracy = acc_score(y_tst, y_tst_hat, 0.5)\n",
    "\n",
    "initial_accuracy"
   ]
  },
  {
   "cell_type": "code",
   "execution_count": 11,
   "id": "3123ca31-9c25-44dc-94eb-d8241dde851e",
   "metadata": {
    "colab": {
     "base_uri": "https://localhost:8080/",
     "height": 1000
    },
    "executionInfo": {
     "elapsed": 8411,
     "status": "error",
     "timestamp": 1621433929863,
     "user": {
      "displayName": "백보이",
      "photoUrl": "",
      "userId": "06027114131747277966"
     },
     "user_tz": -540
    },
    "id": "3123ca31-9c25-44dc-94eb-d8241dde851e",
    "outputId": "5863c8bd-fabc-4d84-c2a3-e9c7b8ad9efe"
   },
   "outputs": [
    {
     "name": "stderr",
     "output_type": "stream",
     "text": [
      "100%|██████████████████████████████████████████████████████████████████████████████████████████████████████████████| 10000/10000 [00:01<00:00, 5427.20it/s]\n"
     ]
    },
    {
     "data": {
      "text/plain": [
       "array([-0.23956315, -0.24914661,  0.09829648, -0.35515006,  0.29392063,\n",
       "       -0.54620498,  0.08041946, -0.88439321,  0.17981669,  0.43666745,\n",
       "        0.1874532 ,  0.40329753, -0.27361581,  0.13877872, -0.17733836,\n",
       "       -0.38809601,  0.35189017,  0.0374813 ,  0.27342745,  0.02724982,\n",
       "       -0.59967861, -0.12085556, -0.43929121, -0.17781157, -0.56136121,\n",
       "       -0.06714486, -0.50870266, -0.57847556, -0.25760083,  0.36794231,\n",
       "        0.92753323])"
      ]
     },
     "execution_count": 11,
     "metadata": {},
     "output_type": "execute_result"
    }
   ],
   "source": [
    "from tqdm import tqdm # progress bar\n",
    "\n",
    "beta = np.random.random(31)\n",
    "lr = 0.000001\n",
    "itr_num = 10000\n",
    "cut_off = 0.5\n",
    "avg_loss = []\n",
    "avg_acc = []\n",
    "cum_loss, cum_acc = 0, 0\n",
    "\n",
    "for itr in tqdm(range(1, itr_num + 1)):\n",
    "    y_hat = log_model(X_tr, beta)\n",
    "    y_tst_hat = log_model(X_tst, beta)\n",
    "    l = loss(y_tr, y_hat)\n",
    "    accuracy = acc_score(y_tst, y_tst_hat, cut_off)\n",
    "    cum_loss += l\n",
    "    cum_acc += accuracy\n",
    "    \n",
    "    avg_loss.append(cum_loss / itr)\n",
    "    avg_acc.append(cum_acc / itr)\n",
    "    \n",
    "    beta -= lr * grad(X_tr, y_tr, y_hat)\n",
    "beta"
   ]
  },
  {
   "cell_type": "code",
   "execution_count": 12,
   "id": "c55a5096-315d-44cf-a901-2720183f5c4d",
   "metadata": {
    "colab": {
     "base_uri": "https://localhost:8080/",
     "height": 281
    },
    "executionInfo": {
     "elapsed": 693,
     "status": "ok",
     "timestamp": 1619258520427,
     "user": {
      "displayName": "백보이",
      "photoUrl": "",
      "userId": "06027114131747277966"
     },
     "user_tz": -540
    },
    "id": "c55a5096-315d-44cf-a901-2720183f5c4d",
    "outputId": "49578645-ee55-4086-b566-b87a9a50a2cf"
   },
   "outputs": [
    {
     "data": {
      "image/png": "[encoded data removed]",
      "text/plain": [
       "<Figure size 432x288 with 1 Axes>"
      ]
     },
     "metadata": {
      "needs_background": "light"
     },
     "output_type": "display_data"
    }
   ],
   "source": [
    "plt.plot(np.arange(itr_num), avg_loss)\n",
    "plt.title('average loss')\n",
    "plt.grid()\n",
    "plt.show()"
   ]
  },
  {
   "cell_type": "code",
   "execution_count": 13,
   "id": "daef1f15-5d73-4fd1-8d0d-b3bb20ff0274",
   "metadata": {
    "colab": {
     "base_uri": "https://localhost:8080/",
     "height": 281
    },
    "executionInfo": {
     "elapsed": 1038,
     "status": "ok",
     "timestamp": 1619258522731,
     "user": {
      "displayName": "백보이",
      "photoUrl": "",
      "userId": "06027114131747277966"
     },
     "user_tz": -540
    },
    "id": "daef1f15-5d73-4fd1-8d0d-b3bb20ff0274",
    "outputId": "eb0cca81-f558-4bea-f280-4a9fdf0b82c5"
   },
   "outputs": [
    {
     "data": {
      "image/png": "[encoded data removed]",
      "text/plain": [
       "<Figure size 432x288 with 1 Axes>"
      ]
     },
     "metadata": {
      "needs_background": "light"
     },
     "output_type": "display_data"
    }
   ],
   "source": [
    "plt.plot(np.arange(itr_num), avg_acc)\n",
    "plt.title('average accuracy')\n",
    "plt.grid()\n",
    "plt.show()"
   ]
  },
  {
   "cell_type": "code",
   "execution_count": 14,
   "id": "98bf4cac-c552-43dc-a636-a92e2f5583cb",
   "metadata": {
    "colab": {
     "base_uri": "https://localhost:8080/"
    },
    "executionInfo": {
     "elapsed": 937,
     "status": "ok",
     "timestamp": 1619258537691,
     "user": {
      "displayName": "백보이",
      "photoUrl": "",
      "userId": "06027114131747277966"
     },
     "user_tz": -540
    },
    "id": "98bf4cac-c552-43dc-a636-a92e2f5583cb",
    "outputId": "fda14edd-f070-4161-b243-279e216613e5"
   },
   "outputs": [
    {
     "data": {
      "text/plain": [
       "0.9298245614035088"
      ]
     },
     "execution_count": 14,
     "metadata": {},
     "output_type": "execute_result"
    }
   ],
   "source": [
    "y_tst_hat = log_model(X_tst, beta)\n",
    "acc_score(y_tst, y_tst_hat, cut_off)"
   ]
  },
  {
   "cell_type": "markdown",
   "id": "6cef245f-6d7a-40d1-9653-171431013d9c",
   "metadata": {
    "id": "6cef245f-6d7a-40d1-9653-171431013d9c"
   },
   "source": [
    "### sklearn 을 통한 로지스틱 회귀 모델 이용"
   ]
  },
  {
   "cell_type": "code",
   "execution_count": null,
   "id": "5a156aa3-4513-4d59-ab81-881304105dbb",
   "metadata": {
    "id": "5a156aa3-4513-4d59-ab81-881304105dbb"
   },
   "outputs": [],
   "source": [
    "from sklearn.linear_model import LogisticRegression"
   ]
  },
  {
   "cell_type": "code",
   "execution_count": null,
   "id": "aef2a906-4c83-4518-9a88-5e395ac2ca5f",
   "metadata": {
    "colab": {
     "base_uri": "https://localhost:8080/"
    },
    "executionInfo": {
     "elapsed": 437,
     "status": "ok",
     "timestamp": 1619258542648,
     "user": {
      "displayName": "백보이",
      "photoUrl": "",
      "userId": "06027114131747277966"
     },
     "user_tz": -540
    },
    "id": "aef2a906-4c83-4518-9a88-5e395ac2ca5f",
    "outputId": "7b25a86b-a795-4670-c185-ad1731c9a73a"
   },
   "outputs": [
    {
     "data": {
      "text/plain": [
       "(398, 30)"
      ]
     },
     "execution_count": 39,
     "metadata": {
      "tags": []
     },
     "output_type": "execute_result"
    }
   ],
   "source": [
    "X_tr = X_tr[:, :-1]\n",
    "X_tst = X_tst[:, :-1]\n",
    "\n",
    "X_tr.shape"
   ]
  },
  {
   "cell_type": "code",
   "execution_count": null,
   "id": "31be232c-29ed-481a-9346-b7abec288128",
   "metadata": {
    "colab": {
     "base_uri": "https://localhost:8080/"
    },
    "executionInfo": {
     "elapsed": 747,
     "status": "ok",
     "timestamp": 1619258546335,
     "user": {
      "displayName": "백보이",
      "photoUrl": "",
      "userId": "06027114131747277966"
     },
     "user_tz": -540
    },
    "id": "31be232c-29ed-481a-9346-b7abec288128",
    "outputId": "a89db7b4-6a2a-4979-865b-54b27504caf1"
   },
   "outputs": [
    {
     "data": {
      "text/plain": [
       "(array([[-0.30040355, -0.12591222, -0.27859202, -0.33756762, -0.0055591 ,\n",
       "          0.46850546, -0.97078488, -1.18015756,  0.07983681,  0.14939934,\n",
       "         -1.2832892 ,  0.09356772, -0.65431195, -0.89026452, -0.39004192,\n",
       "          0.66625917,  0.21121555, -0.22019806,  0.32144958,  0.65257455,\n",
       "         -0.925635  , -1.29501009, -0.67236821, -0.80317183, -0.44557821,\n",
       "         -0.01323159, -0.84457247, -0.8285157 , -0.75679725, -0.1978604 ]]),\n",
       " array([-0.09588366]))"
      ]
     },
     "execution_count": 40,
     "metadata": {
      "tags": []
     },
     "output_type": "execute_result"
    }
   ],
   "source": [
    "model = LogisticRegression()\n",
    "model.fit(X_tr, y_tr)\n",
    "\n",
    "model.coef_, model.intercept_"
   ]
  },
  {
   "cell_type": "code",
   "execution_count": null,
   "id": "4f59cf8b-ccd3-4bf7-821c-4f25998c6b14",
   "metadata": {
    "colab": {
     "base_uri": "https://localhost:8080/"
    },
    "executionInfo": {
     "elapsed": 631,
     "status": "ok",
     "timestamp": 1619258549559,
     "user": {
      "displayName": "백보이",
      "photoUrl": "",
      "userId": "06027114131747277966"
     },
     "user_tz": -540
    },
    "id": "4f59cf8b-ccd3-4bf7-821c-4f25998c6b14",
    "outputId": "f36faa33-359f-4244-8b92-a88bc9e6f4b4"
   },
   "outputs": [
    {
     "data": {
      "text/plain": [
       "0.9883040935672515"
      ]
     },
     "execution_count": 41,
     "metadata": {
      "tags": []
     },
     "output_type": "execute_result"
    }
   ],
   "source": [
    "y_hat_from_sklearn = model.predict(X_tst)\n",
    "\n",
    "acc_score(y_tst, y_hat_from_sklearn, 0.5)"
   ]
  },
  {
   "cell_type": "code",
   "execution_count": null,
   "id": "1e309374-08b8-49d2-a824-2cd7784cc970",
   "metadata": {
    "id": "1e309374-08b8-49d2-a824-2cd7784cc970"
   },
   "outputs": [],
   "source": []
  }
 ],
 "metadata": {
  "colab": {
   "name": "log_reg.ipynb",
   "provenance": []
  },
  "kernelspec": {
   "display_name": "Python 3 (ipykernel)",
   "language": "python",
   "name": "python3"
  },
  "language_info": {
   "codemirror_mode": {
    "name": "ipython",
    "version": 3
   },
   "file_extension": ".py",
   "mimetype": "text/x-python",
   "name": "python",
   "nbconvert_exporter": "python",
   "pygments_lexer": "ipython3",
   "version": "3.8.8"
  }
 },
 "nbformat": 4,
 "nbformat_minor": 5
}

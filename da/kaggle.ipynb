{
 "cells": [
  {
   "cell_type": "markdown",
   "id": "8ecf39d2-a865-4853-a911-04d19ea49218",
   "metadata": {},
   "source": [
    "# Kaggle\n",
    "## 개요\n",
    "[Kaggle](https://www.kaggle.com/)은 내가 만든 머신러닝 모델을 실제 데이터에 적용하여 테스트 할 수 있는 사이트이다. 주어진 문제에 대해 얼마나 좋은 성능을 내는 모델을 개발해 정답에 가까운 예측을 하는지 여부가 Leaderboard에 기록되기도 한다. 많은 Kaggle 경험 자체가 포트폴리오가 될 수 있는 매우 강력한 서비스이다.\n",
    "\n",
    "사이트를 들어가면 여러 사람들이 공유한 학습 방법과 데이터 전처리 방법이 있고 커뮤니티가 잘 활성화 되어있다. 이를 통해 많은 것을 배울 수도 있다.\n",
    "\n",
    "실전에서는 모델을 잘 다루는 것 만큼 중요한 것이 데이터를 정제하는 **데이터 전처리** 작업이다. 실습을 통해 알아보자."
   ]
  },
  {
   "cell_type": "markdown",
   "id": "bf783be8-beed-44fc-8ccf-84402aa8061c",
   "metadata": {},
   "source": [
    "## 실습\n",
    "입문자들이 하기 가장 좋은 Titanic 문제를 이용하여 Kaggle 사용법을 익혀보자. [Titanic](https://www.kaggle.com/c/titanic/data?select=gender_submission.csv)\n",
    "\n",
    "먼저 링크에 접속하여 문제를 읽고 Download All 버튼을 눌러 데이터를 다운받는다. 다운 받은 후 데이터에 대한 설명을 읽어보자. 배에 올라탄 사람들에 대한 여러 정보가 담겨있는 데이터임을 알 수 있다."
   ]
  },
  {
   "cell_type": "code",
   "execution_count": 142,
   "id": "f07d9b26-e92f-48d0-a2a8-a9b37c3b68c6",
   "metadata": {},
   "outputs": [],
   "source": [
    "import pandas as pd\n",
    "import numpy as np\n",
    "import matplotlib.pyplot as plt\n",
    "\n",
    "from sklearn.model_selection import train_test_split"
   ]
  },
  {
   "cell_type": "code",
   "execution_count": 212,
   "id": "a71c61ba-26fa-4053-9655-a8c79569ae58",
   "metadata": {},
   "outputs": [
    {
     "data": {
      "text/html": [
       "<div>\n",
       "<style scoped>\n",
       "    .dataframe tbody tr th:only-of-type {\n",
       "        vertical-align: middle;\n",
       "    }\n",
       "\n",
       "    .dataframe tbody tr th {\n",
       "        vertical-align: top;\n",
       "    }\n",
       "\n",
       "    .dataframe thead th {\n",
       "        text-align: right;\n",
       "    }\n",
       "</style>\n",
       "<table border=\"1\" class=\"dataframe\">\n",
       "  <thead>\n",
       "    <tr style=\"text-align: right;\">\n",
       "      <th></th>\n",
       "      <th>PassengerId</th>\n",
       "      <th>Survived</th>\n",
       "      <th>Pclass</th>\n",
       "      <th>Name</th>\n",
       "      <th>Sex</th>\n",
       "      <th>Age</th>\n",
       "      <th>SibSp</th>\n",
       "      <th>Parch</th>\n",
       "      <th>Ticket</th>\n",
       "      <th>Fare</th>\n",
       "      <th>Cabin</th>\n",
       "      <th>Embarked</th>\n",
       "    </tr>\n",
       "  </thead>\n",
       "  <tbody>\n",
       "    <tr>\n",
       "      <th>0</th>\n",
       "      <td>1</td>\n",
       "      <td>0</td>\n",
       "      <td>3</td>\n",
       "      <td>Braund, Mr. Owen Harris</td>\n",
       "      <td>male</td>\n",
       "      <td>22.0</td>\n",
       "      <td>1</td>\n",
       "      <td>0</td>\n",
       "      <td>A/5 21171</td>\n",
       "      <td>7.2500</td>\n",
       "      <td>NaN</td>\n",
       "      <td>S</td>\n",
       "    </tr>\n",
       "    <tr>\n",
       "      <th>1</th>\n",
       "      <td>2</td>\n",
       "      <td>1</td>\n",
       "      <td>1</td>\n",
       "      <td>Cumings, Mrs. John Bradley (Florence Briggs Th...</td>\n",
       "      <td>female</td>\n",
       "      <td>38.0</td>\n",
       "      <td>1</td>\n",
       "      <td>0</td>\n",
       "      <td>PC 17599</td>\n",
       "      <td>71.2833</td>\n",
       "      <td>C85</td>\n",
       "      <td>C</td>\n",
       "    </tr>\n",
       "    <tr>\n",
       "      <th>2</th>\n",
       "      <td>3</td>\n",
       "      <td>1</td>\n",
       "      <td>3</td>\n",
       "      <td>Heikkinen, Miss. Laina</td>\n",
       "      <td>female</td>\n",
       "      <td>26.0</td>\n",
       "      <td>0</td>\n",
       "      <td>0</td>\n",
       "      <td>STON/O2. 3101282</td>\n",
       "      <td>7.9250</td>\n",
       "      <td>NaN</td>\n",
       "      <td>S</td>\n",
       "    </tr>\n",
       "    <tr>\n",
       "      <th>3</th>\n",
       "      <td>4</td>\n",
       "      <td>1</td>\n",
       "      <td>1</td>\n",
       "      <td>Futrelle, Mrs. Jacques Heath (Lily May Peel)</td>\n",
       "      <td>female</td>\n",
       "      <td>35.0</td>\n",
       "      <td>1</td>\n",
       "      <td>0</td>\n",
       "      <td>113803</td>\n",
       "      <td>53.1000</td>\n",
       "      <td>C123</td>\n",
       "      <td>S</td>\n",
       "    </tr>\n",
       "    <tr>\n",
       "      <th>4</th>\n",
       "      <td>5</td>\n",
       "      <td>0</td>\n",
       "      <td>3</td>\n",
       "      <td>Allen, Mr. William Henry</td>\n",
       "      <td>male</td>\n",
       "      <td>35.0</td>\n",
       "      <td>0</td>\n",
       "      <td>0</td>\n",
       "      <td>373450</td>\n",
       "      <td>8.0500</td>\n",
       "      <td>NaN</td>\n",
       "      <td>S</td>\n",
       "    </tr>\n",
       "  </tbody>\n",
       "</table>\n",
       "</div>"
      ],
      "text/plain": [
       "   PassengerId  Survived  Pclass  \\\n",
       "0            1         0       3   \n",
       "1            2         1       1   \n",
       "2            3         1       3   \n",
       "3            4         1       1   \n",
       "4            5         0       3   \n",
       "\n",
       "                                                Name     Sex   Age  SibSp  \\\n",
       "0                            Braund, Mr. Owen Harris    male  22.0      1   \n",
       "1  Cumings, Mrs. John Bradley (Florence Briggs Th...  female  38.0      1   \n",
       "2                             Heikkinen, Miss. Laina  female  26.0      0   \n",
       "3       Futrelle, Mrs. Jacques Heath (Lily May Peel)  female  35.0      1   \n",
       "4                           Allen, Mr. William Henry    male  35.0      0   \n",
       "\n",
       "   Parch            Ticket     Fare Cabin Embarked  \n",
       "0      0         A/5 21171   7.2500   NaN        S  \n",
       "1      0          PC 17599  71.2833   C85        C  \n",
       "2      0  STON/O2. 3101282   7.9250   NaN        S  \n",
       "3      0            113803  53.1000  C123        S  \n",
       "4      0            373450   8.0500   NaN        S  "
      ]
     },
     "execution_count": 212,
     "metadata": {},
     "output_type": "execute_result"
    }
   ],
   "source": [
    "tr = pd.read_csv(\"./data/train.csv\")\n",
    "tst = pd.read_csv(\"./data/test.csv\")\n",
    "\n",
    "tr.head()"
   ]
  },
  {
   "cell_type": "code",
   "execution_count": 213,
   "id": "8edf8b18-115e-4f5e-a86f-19d30409477f",
   "metadata": {},
   "outputs": [
    {
     "data": {
      "text/html": [
       "<div>\n",
       "<style scoped>\n",
       "    .dataframe tbody tr th:only-of-type {\n",
       "        vertical-align: middle;\n",
       "    }\n",
       "\n",
       "    .dataframe tbody tr th {\n",
       "        vertical-align: top;\n",
       "    }\n",
       "\n",
       "    .dataframe thead th {\n",
       "        text-align: right;\n",
       "    }\n",
       "</style>\n",
       "<table border=\"1\" class=\"dataframe\">\n",
       "  <thead>\n",
       "    <tr style=\"text-align: right;\">\n",
       "      <th></th>\n",
       "      <th>PassengerId</th>\n",
       "      <th>Pclass</th>\n",
       "      <th>Name</th>\n",
       "      <th>Sex</th>\n",
       "      <th>Age</th>\n",
       "      <th>SibSp</th>\n",
       "      <th>Parch</th>\n",
       "      <th>Ticket</th>\n",
       "      <th>Fare</th>\n",
       "      <th>Cabin</th>\n",
       "      <th>Embarked</th>\n",
       "    </tr>\n",
       "  </thead>\n",
       "  <tbody>\n",
       "    <tr>\n",
       "      <th>0</th>\n",
       "      <td>892</td>\n",
       "      <td>3</td>\n",
       "      <td>Kelly, Mr. James</td>\n",
       "      <td>male</td>\n",
       "      <td>34.5</td>\n",
       "      <td>0</td>\n",
       "      <td>0</td>\n",
       "      <td>330911</td>\n",
       "      <td>7.8292</td>\n",
       "      <td>NaN</td>\n",
       "      <td>Q</td>\n",
       "    </tr>\n",
       "    <tr>\n",
       "      <th>1</th>\n",
       "      <td>893</td>\n",
       "      <td>3</td>\n",
       "      <td>Wilkes, Mrs. James (Ellen Needs)</td>\n",
       "      <td>female</td>\n",
       "      <td>47.0</td>\n",
       "      <td>1</td>\n",
       "      <td>0</td>\n",
       "      <td>363272</td>\n",
       "      <td>7.0000</td>\n",
       "      <td>NaN</td>\n",
       "      <td>S</td>\n",
       "    </tr>\n",
       "    <tr>\n",
       "      <th>2</th>\n",
       "      <td>894</td>\n",
       "      <td>2</td>\n",
       "      <td>Myles, Mr. Thomas Francis</td>\n",
       "      <td>male</td>\n",
       "      <td>62.0</td>\n",
       "      <td>0</td>\n",
       "      <td>0</td>\n",
       "      <td>240276</td>\n",
       "      <td>9.6875</td>\n",
       "      <td>NaN</td>\n",
       "      <td>Q</td>\n",
       "    </tr>\n",
       "    <tr>\n",
       "      <th>3</th>\n",
       "      <td>895</td>\n",
       "      <td>3</td>\n",
       "      <td>Wirz, Mr. Albert</td>\n",
       "      <td>male</td>\n",
       "      <td>27.0</td>\n",
       "      <td>0</td>\n",
       "      <td>0</td>\n",
       "      <td>315154</td>\n",
       "      <td>8.6625</td>\n",
       "      <td>NaN</td>\n",
       "      <td>S</td>\n",
       "    </tr>\n",
       "    <tr>\n",
       "      <th>4</th>\n",
       "      <td>896</td>\n",
       "      <td>3</td>\n",
       "      <td>Hirvonen, Mrs. Alexander (Helga E Lindqvist)</td>\n",
       "      <td>female</td>\n",
       "      <td>22.0</td>\n",
       "      <td>1</td>\n",
       "      <td>1</td>\n",
       "      <td>3101298</td>\n",
       "      <td>12.2875</td>\n",
       "      <td>NaN</td>\n",
       "      <td>S</td>\n",
       "    </tr>\n",
       "  </tbody>\n",
       "</table>\n",
       "</div>"
      ],
      "text/plain": [
       "   PassengerId  Pclass                                          Name     Sex  \\\n",
       "0          892       3                              Kelly, Mr. James    male   \n",
       "1          893       3              Wilkes, Mrs. James (Ellen Needs)  female   \n",
       "2          894       2                     Myles, Mr. Thomas Francis    male   \n",
       "3          895       3                              Wirz, Mr. Albert    male   \n",
       "4          896       3  Hirvonen, Mrs. Alexander (Helga E Lindqvist)  female   \n",
       "\n",
       "    Age  SibSp  Parch   Ticket     Fare Cabin Embarked  \n",
       "0  34.5      0      0   330911   7.8292   NaN        Q  \n",
       "1  47.0      1      0   363272   7.0000   NaN        S  \n",
       "2  62.0      0      0   240276   9.6875   NaN        Q  \n",
       "3  27.0      0      0   315154   8.6625   NaN        S  \n",
       "4  22.0      1      1  3101298  12.2875   NaN        S  "
      ]
     },
     "execution_count": 213,
     "metadata": {},
     "output_type": "execute_result"
    }
   ],
   "source": [
    "tst.head()"
   ]
  },
  {
   "cell_type": "markdown",
   "id": "287f1b1f-a598-42e9-a92c-e3bb70177588",
   "metadata": {},
   "source": [
    "데이터에 있는 사람들의 정보를 이용해 그 사람의 구조 여부를 예측하는 것이 이번 문제이다.\n",
    "\n",
    "우리는 오로지 수치 데이터만 필요하기 때문에 Name 과 Ticket 항목은 `drop` 메소드를 통해 제외시키자. PassengerId와 선실 번호를 의미하는 Cabin도 유의미한 항목으로 보여지지 않기 때문에 제외시키자."
   ]
  },
  {
   "cell_type": "code",
   "execution_count": 214,
   "id": "62e645d8-7914-4512-bc62-9a6b9521bd74",
   "metadata": {},
   "outputs": [
    {
     "data": {
      "text/html": [
       "<div>\n",
       "<style scoped>\n",
       "    .dataframe tbody tr th:only-of-type {\n",
       "        vertical-align: middle;\n",
       "    }\n",
       "\n",
       "    .dataframe tbody tr th {\n",
       "        vertical-align: top;\n",
       "    }\n",
       "\n",
       "    .dataframe thead th {\n",
       "        text-align: right;\n",
       "    }\n",
       "</style>\n",
       "<table border=\"1\" class=\"dataframe\">\n",
       "  <thead>\n",
       "    <tr style=\"text-align: right;\">\n",
       "      <th></th>\n",
       "      <th>Survived</th>\n",
       "      <th>Pclass</th>\n",
       "      <th>Sex</th>\n",
       "      <th>Age</th>\n",
       "      <th>SibSp</th>\n",
       "      <th>Parch</th>\n",
       "      <th>Fare</th>\n",
       "      <th>Embarked</th>\n",
       "    </tr>\n",
       "  </thead>\n",
       "  <tbody>\n",
       "    <tr>\n",
       "      <th>0</th>\n",
       "      <td>0</td>\n",
       "      <td>3</td>\n",
       "      <td>male</td>\n",
       "      <td>22.0</td>\n",
       "      <td>1</td>\n",
       "      <td>0</td>\n",
       "      <td>7.2500</td>\n",
       "      <td>S</td>\n",
       "    </tr>\n",
       "    <tr>\n",
       "      <th>1</th>\n",
       "      <td>1</td>\n",
       "      <td>1</td>\n",
       "      <td>female</td>\n",
       "      <td>38.0</td>\n",
       "      <td>1</td>\n",
       "      <td>0</td>\n",
       "      <td>71.2833</td>\n",
       "      <td>C</td>\n",
       "    </tr>\n",
       "    <tr>\n",
       "      <th>2</th>\n",
       "      <td>1</td>\n",
       "      <td>3</td>\n",
       "      <td>female</td>\n",
       "      <td>26.0</td>\n",
       "      <td>0</td>\n",
       "      <td>0</td>\n",
       "      <td>7.9250</td>\n",
       "      <td>S</td>\n",
       "    </tr>\n",
       "    <tr>\n",
       "      <th>3</th>\n",
       "      <td>1</td>\n",
       "      <td>1</td>\n",
       "      <td>female</td>\n",
       "      <td>35.0</td>\n",
       "      <td>1</td>\n",
       "      <td>0</td>\n",
       "      <td>53.1000</td>\n",
       "      <td>S</td>\n",
       "    </tr>\n",
       "    <tr>\n",
       "      <th>4</th>\n",
       "      <td>0</td>\n",
       "      <td>3</td>\n",
       "      <td>male</td>\n",
       "      <td>35.0</td>\n",
       "      <td>0</td>\n",
       "      <td>0</td>\n",
       "      <td>8.0500</td>\n",
       "      <td>S</td>\n",
       "    </tr>\n",
       "  </tbody>\n",
       "</table>\n",
       "</div>"
      ],
      "text/plain": [
       "   Survived  Pclass     Sex   Age  SibSp  Parch     Fare Embarked\n",
       "0         0       3    male  22.0      1      0   7.2500        S\n",
       "1         1       1  female  38.0      1      0  71.2833        C\n",
       "2         1       3  female  26.0      0      0   7.9250        S\n",
       "3         1       1  female  35.0      1      0  53.1000        S\n",
       "4         0       3    male  35.0      0      0   8.0500        S"
      ]
     },
     "execution_count": 214,
     "metadata": {},
     "output_type": "execute_result"
    }
   ],
   "source": [
    "tr = tr.drop([\"PassengerId\", \"Name\", \"Ticket\", \"Cabin\"], axis=1)\n",
    "tst = tst.drop([\"PassengerId\", \"Name\", \"Ticket\", \"Cabin\"], axis=1)\n",
    "\n",
    "tr.head()"
   ]
  },
  {
   "cell_type": "markdown",
   "id": "6dcdfa9c-8508-49c1-933d-3abf925c638e",
   "metadata": {
    "tags": []
   },
   "source": [
    "이 후 비어있는 데이터가 있는지 `isna` 메소드로 확인하자. 데이터가 비어있으면 모델 적용 할 때 오류가 날 것이다."
   ]
  },
  {
   "cell_type": "code",
   "execution_count": 215,
   "id": "098f6a95-1b8f-4c5e-b6dd-8ccb1696b73e",
   "metadata": {
    "tags": []
   },
   "outputs": [
    {
     "data": {
      "text/plain": [
       "Survived      0\n",
       "Pclass        0\n",
       "Sex           0\n",
       "Age         177\n",
       "SibSp         0\n",
       "Parch         0\n",
       "Fare          0\n",
       "Embarked      2\n",
       "dtype: int64"
      ]
     },
     "execution_count": 215,
     "metadata": {},
     "output_type": "execute_result"
    }
   ],
   "source": [
    "tr.isna().sum()"
   ]
  },
  {
   "cell_type": "code",
   "execution_count": 216,
   "id": "c704eb73-3558-4020-91cc-3c98be656258",
   "metadata": {},
   "outputs": [
    {
     "data": {
      "text/plain": [
       "Pclass       0\n",
       "Sex          0\n",
       "Age         86\n",
       "SibSp        0\n",
       "Parch        0\n",
       "Fare         1\n",
       "Embarked     0\n",
       "dtype: int64"
      ]
     },
     "execution_count": 216,
     "metadata": {},
     "output_type": "execute_result"
    }
   ],
   "source": [
    "tst.isna().sum()"
   ]
  },
  {
   "cell_type": "markdown",
   "id": "6cd8ba6d-80a6-4285-99ce-286e4c2175f7",
   "metadata": {
    "tags": []
   },
   "source": [
    "비어있는 데이터 처리 방법은 여러가지가 있다. 가장 쉬운 방법은 하나라도 비어있는 데이터가 있으면 그 행을 지워버리는 것이다. 그러나 실전에서는 데이터 하나가 아까운 경우가 많다. 따라서 이번에는 적절한 값으로 빈 데이터를 채워넣는 방법을 이용할 것이다. 가장 간단한 방법으로는 해당 요소에 대한 평균값으로 채워 넣는 것이다. 이 외에도 거리함수를 이용해 가장 가까운 데이터의 요소 값으로 채워넣는 등, 여러가지 방법이 있겠지만 일단 가장 간단한 방법으로 진행 해보자. 결측값을 채우는 것은 `fiilna` 메소드로 할 수 있다."
   ]
  },
  {
   "cell_type": "code",
   "execution_count": 217,
   "id": "63276616-78ef-4d53-9e23-21d0103ad079",
   "metadata": {},
   "outputs": [
    {
     "data": {
      "text/plain": [
       "(29.69911764705882, 30.272590361445783, 35.627188489208635)"
      ]
     },
     "execution_count": 217,
     "metadata": {},
     "output_type": "execute_result"
    }
   ],
   "source": [
    "meanAge_tr = tr.mean()[\"Age\"]\n",
    "meanAge_tst = tst.mean()[\"Age\"]\n",
    "fare_tst = tst.mean()[\"Fare\"]\n",
    "\n",
    "meanAge_tr, meanAge_tst, fare_tst"
   ]
  },
  {
   "cell_type": "code",
   "execution_count": 218,
   "id": "92645d13-2840-4c30-a4b0-004dfa869e74",
   "metadata": {},
   "outputs": [],
   "source": [
    "tr[\"Age\"] = tr[\"Age\"].fillna(meanAge_tr)\n",
    "tst[\"Age\"] = tst[\"Age\"].fillna(meanAge_tst)\n",
    "tst[\"Fare\"] = tst[\"Fare\"].fillna(fare_tst)"
   ]
  },
  {
   "cell_type": "markdown",
   "id": "d1a15dcb-f984-4346-bc76-04f30db20c07",
   "metadata": {},
   "source": [
    "Embarked 는 범주형 데이터이기 때문에 평균값 대신 최빈값으로 채울 수 있다."
   ]
  },
  {
   "cell_type": "code",
   "execution_count": 219,
   "id": "767c7a2c-c98d-4fde-a693-6ac1be0068b7",
   "metadata": {},
   "outputs": [
    {
     "data": {
      "text/plain": [
       "0    S\n",
       "Name: Embarked, dtype: object"
      ]
     },
     "execution_count": 219,
     "metadata": {},
     "output_type": "execute_result"
    }
   ],
   "source": [
    "embarked_tr = tr.mode()[\"Embarked\"]\n",
    "\n",
    "embarked_tr"
   ]
  },
  {
   "cell_type": "code",
   "execution_count": 220,
   "id": "07ed9f35-a60d-4415-b017-b0b2aa6ee9e0",
   "metadata": {},
   "outputs": [],
   "source": [
    "tr[\"Embarked\"] = tr[\"Embarked\"].fillna(\"S\")"
   ]
  },
  {
   "cell_type": "code",
   "execution_count": 221,
   "id": "e19ad51c-0038-4a50-838d-93435f85d344",
   "metadata": {},
   "outputs": [
    {
     "data": {
      "text/plain": [
       "Survived    0\n",
       "Pclass      0\n",
       "Sex         0\n",
       "Age         0\n",
       "SibSp       0\n",
       "Parch       0\n",
       "Fare        0\n",
       "Embarked    0\n",
       "dtype: int64"
      ]
     },
     "execution_count": 221,
     "metadata": {},
     "output_type": "execute_result"
    }
   ],
   "source": [
    "tr.isna().sum()"
   ]
  },
  {
   "cell_type": "code",
   "execution_count": 222,
   "id": "8a7a6368-c197-4046-aba4-532fd472b165",
   "metadata": {},
   "outputs": [
    {
     "data": {
      "text/plain": [
       "Pclass      0\n",
       "Sex         0\n",
       "Age         0\n",
       "SibSp       0\n",
       "Parch       0\n",
       "Fare        0\n",
       "Embarked    0\n",
       "dtype: int64"
      ]
     },
     "execution_count": 222,
     "metadata": {},
     "output_type": "execute_result"
    }
   ],
   "source": [
    "tst.isna().sum()"
   ]
  },
  {
   "cell_type": "code",
   "execution_count": 223,
   "id": "d21c2fd8-9b8d-4a2d-ae16-f8dc71be6da7",
   "metadata": {},
   "outputs": [
    {
     "data": {
      "text/html": [
       "<div>\n",
       "<style scoped>\n",
       "    .dataframe tbody tr th:only-of-type {\n",
       "        vertical-align: middle;\n",
       "    }\n",
       "\n",
       "    .dataframe tbody tr th {\n",
       "        vertical-align: top;\n",
       "    }\n",
       "\n",
       "    .dataframe thead th {\n",
       "        text-align: right;\n",
       "    }\n",
       "</style>\n",
       "<table border=\"1\" class=\"dataframe\">\n",
       "  <thead>\n",
       "    <tr style=\"text-align: right;\">\n",
       "      <th></th>\n",
       "      <th>Survived</th>\n",
       "      <th>Pclass</th>\n",
       "      <th>Sex</th>\n",
       "      <th>Age</th>\n",
       "      <th>SibSp</th>\n",
       "      <th>Parch</th>\n",
       "      <th>Fare</th>\n",
       "      <th>Embarked</th>\n",
       "    </tr>\n",
       "  </thead>\n",
       "  <tbody>\n",
       "    <tr>\n",
       "      <th>0</th>\n",
       "      <td>0</td>\n",
       "      <td>3</td>\n",
       "      <td>male</td>\n",
       "      <td>22.0</td>\n",
       "      <td>1</td>\n",
       "      <td>0</td>\n",
       "      <td>7.2500</td>\n",
       "      <td>S</td>\n",
       "    </tr>\n",
       "    <tr>\n",
       "      <th>1</th>\n",
       "      <td>1</td>\n",
       "      <td>1</td>\n",
       "      <td>female</td>\n",
       "      <td>38.0</td>\n",
       "      <td>1</td>\n",
       "      <td>0</td>\n",
       "      <td>71.2833</td>\n",
       "      <td>C</td>\n",
       "    </tr>\n",
       "    <tr>\n",
       "      <th>2</th>\n",
       "      <td>1</td>\n",
       "      <td>3</td>\n",
       "      <td>female</td>\n",
       "      <td>26.0</td>\n",
       "      <td>0</td>\n",
       "      <td>0</td>\n",
       "      <td>7.9250</td>\n",
       "      <td>S</td>\n",
       "    </tr>\n",
       "    <tr>\n",
       "      <th>3</th>\n",
       "      <td>1</td>\n",
       "      <td>1</td>\n",
       "      <td>female</td>\n",
       "      <td>35.0</td>\n",
       "      <td>1</td>\n",
       "      <td>0</td>\n",
       "      <td>53.1000</td>\n",
       "      <td>S</td>\n",
       "    </tr>\n",
       "    <tr>\n",
       "      <th>4</th>\n",
       "      <td>0</td>\n",
       "      <td>3</td>\n",
       "      <td>male</td>\n",
       "      <td>35.0</td>\n",
       "      <td>0</td>\n",
       "      <td>0</td>\n",
       "      <td>8.0500</td>\n",
       "      <td>S</td>\n",
       "    </tr>\n",
       "  </tbody>\n",
       "</table>\n",
       "</div>"
      ],
      "text/plain": [
       "   Survived  Pclass     Sex   Age  SibSp  Parch     Fare Embarked\n",
       "0         0       3    male  22.0      1      0   7.2500        S\n",
       "1         1       1  female  38.0      1      0  71.2833        C\n",
       "2         1       3  female  26.0      0      0   7.9250        S\n",
       "3         1       1  female  35.0      1      0  53.1000        S\n",
       "4         0       3    male  35.0      0      0   8.0500        S"
      ]
     },
     "execution_count": 223,
     "metadata": {},
     "output_type": "execute_result"
    }
   ],
   "source": [
    "tr.head()"
   ]
  },
  {
   "cell_type": "markdown",
   "id": "cd445d22-8ae5-403c-8da5-675cf922dd65",
   "metadata": {},
   "source": [
    "범주형 데이터인 Pclass, Sex, Embarked 를 수치로 바꾸자. Sex와 Embarked 는 문자열이기 때문에 수치로 바꿀 필요가 있지만, Pclass 의 값은 1, 2, 3이기 때문에 1만 빼주면 된다. 데이터를 특정 값으로 변환하는 것은 `apply` 메소드를 통해 실행 할 수 있다."
   ]
  },
  {
   "cell_type": "code",
   "execution_count": 224,
   "id": "38efde09-08bb-4097-a8fc-e483ddd2de0d",
   "metadata": {},
   "outputs": [
    {
     "data": {
      "text/html": [
       "<div>\n",
       "<style scoped>\n",
       "    .dataframe tbody tr th:only-of-type {\n",
       "        vertical-align: middle;\n",
       "    }\n",
       "\n",
       "    .dataframe tbody tr th {\n",
       "        vertical-align: top;\n",
       "    }\n",
       "\n",
       "    .dataframe thead th {\n",
       "        text-align: right;\n",
       "    }\n",
       "</style>\n",
       "<table border=\"1\" class=\"dataframe\">\n",
       "  <thead>\n",
       "    <tr style=\"text-align: right;\">\n",
       "      <th></th>\n",
       "      <th>Survived</th>\n",
       "      <th>Pclass</th>\n",
       "      <th>Sex</th>\n",
       "      <th>Age</th>\n",
       "      <th>SibSp</th>\n",
       "      <th>Parch</th>\n",
       "      <th>Fare</th>\n",
       "      <th>Embarked</th>\n",
       "    </tr>\n",
       "  </thead>\n",
       "  <tbody>\n",
       "    <tr>\n",
       "      <th>0</th>\n",
       "      <td>0</td>\n",
       "      <td>2</td>\n",
       "      <td>0</td>\n",
       "      <td>22.0</td>\n",
       "      <td>1</td>\n",
       "      <td>0</td>\n",
       "      <td>7.2500</td>\n",
       "      <td>2</td>\n",
       "    </tr>\n",
       "    <tr>\n",
       "      <th>1</th>\n",
       "      <td>1</td>\n",
       "      <td>0</td>\n",
       "      <td>1</td>\n",
       "      <td>38.0</td>\n",
       "      <td>1</td>\n",
       "      <td>0</td>\n",
       "      <td>71.2833</td>\n",
       "      <td>0</td>\n",
       "    </tr>\n",
       "    <tr>\n",
       "      <th>2</th>\n",
       "      <td>1</td>\n",
       "      <td>2</td>\n",
       "      <td>1</td>\n",
       "      <td>26.0</td>\n",
       "      <td>0</td>\n",
       "      <td>0</td>\n",
       "      <td>7.9250</td>\n",
       "      <td>2</td>\n",
       "    </tr>\n",
       "    <tr>\n",
       "      <th>3</th>\n",
       "      <td>1</td>\n",
       "      <td>0</td>\n",
       "      <td>1</td>\n",
       "      <td>35.0</td>\n",
       "      <td>1</td>\n",
       "      <td>0</td>\n",
       "      <td>53.1000</td>\n",
       "      <td>2</td>\n",
       "    </tr>\n",
       "    <tr>\n",
       "      <th>4</th>\n",
       "      <td>0</td>\n",
       "      <td>2</td>\n",
       "      <td>0</td>\n",
       "      <td>35.0</td>\n",
       "      <td>0</td>\n",
       "      <td>0</td>\n",
       "      <td>8.0500</td>\n",
       "      <td>2</td>\n",
       "    </tr>\n",
       "  </tbody>\n",
       "</table>\n",
       "</div>"
      ],
      "text/plain": [
       "   Survived  Pclass  Sex   Age  SibSp  Parch     Fare  Embarked\n",
       "0         0       2    0  22.0      1      0   7.2500         2\n",
       "1         1       0    1  38.0      1      0  71.2833         0\n",
       "2         1       2    1  26.0      0      0   7.9250         2\n",
       "3         1       0    1  35.0      1      0  53.1000         2\n",
       "4         0       2    0  35.0      0      0   8.0500         2"
      ]
     },
     "execution_count": 224,
     "metadata": {},
     "output_type": "execute_result"
    }
   ],
   "source": [
    "map_sex = { \"male\": 0, \"female\": 1 }\n",
    "map_embarked = { \"C\": 0, \"Q\": 1, \"S\": 2 }\n",
    "\n",
    "for df in [tr, tst]:\n",
    "    df[\"Pclass\"] = df[\"Pclass\"].apply(lambda x: x - 1)\n",
    "    df[\"Sex\"] = df[\"Sex\"].apply(lambda x: map_sex[x])\n",
    "    df[\"Embarked\"] = df[\"Embarked\"].apply(lambda x: map_embarked[x])\n",
    "    \n",
    "tr.head()"
   ]
  },
  {
   "cell_type": "code",
   "execution_count": 225,
   "id": "6705d1a6-6ec8-401e-8b55-e3a9446c098f",
   "metadata": {},
   "outputs": [
    {
     "data": {
      "text/plain": [
       "Survived      int64\n",
       "Pclass        int64\n",
       "Sex           int64\n",
       "Age         float64\n",
       "SibSp         int64\n",
       "Parch         int64\n",
       "Fare        float64\n",
       "Embarked      int64\n",
       "dtype: object"
      ]
     },
     "execution_count": 225,
     "metadata": {},
     "output_type": "execute_result"
    }
   ],
   "source": [
    "tr.dtypes"
   ]
  },
  {
   "cell_type": "markdown",
   "id": "8edf1699-bdd0-4ae4-b7b8-39107730d6db",
   "metadata": {},
   "source": [
    "전부 수치 데이터로 바뀐 것을 알 수 있다. 이제 범주형 데이터를 one-hot encoding 해서 추가하자."
   ]
  },
  {
   "cell_type": "code",
   "execution_count": 226,
   "id": "61e58b51-0bdc-46de-905c-f1465e8a4b4a",
   "metadata": {},
   "outputs": [
    {
     "data": {
      "text/html": [
       "<div>\n",
       "<style scoped>\n",
       "    .dataframe tbody tr th:only-of-type {\n",
       "        vertical-align: middle;\n",
       "    }\n",
       "\n",
       "    .dataframe tbody tr th {\n",
       "        vertical-align: top;\n",
       "    }\n",
       "\n",
       "    .dataframe thead th {\n",
       "        text-align: right;\n",
       "    }\n",
       "</style>\n",
       "<table border=\"1\" class=\"dataframe\">\n",
       "  <thead>\n",
       "    <tr style=\"text-align: right;\">\n",
       "      <th></th>\n",
       "      <th>Survived</th>\n",
       "      <th>Pclass</th>\n",
       "      <th>Sex</th>\n",
       "      <th>Age</th>\n",
       "      <th>SibSp</th>\n",
       "      <th>Parch</th>\n",
       "      <th>Fare</th>\n",
       "      <th>Embarked</th>\n",
       "      <th>Pclass_0</th>\n",
       "      <th>Pclass_1</th>\n",
       "      <th>Pclass_2</th>\n",
       "      <th>Sex_0</th>\n",
       "      <th>Sex_1</th>\n",
       "      <th>Embarked_0</th>\n",
       "      <th>Embarked_1</th>\n",
       "      <th>Embarked_2</th>\n",
       "    </tr>\n",
       "  </thead>\n",
       "  <tbody>\n",
       "    <tr>\n",
       "      <th>0</th>\n",
       "      <td>0</td>\n",
       "      <td>2</td>\n",
       "      <td>0</td>\n",
       "      <td>22.0</td>\n",
       "      <td>1</td>\n",
       "      <td>0</td>\n",
       "      <td>7.2500</td>\n",
       "      <td>2</td>\n",
       "      <td>0.0</td>\n",
       "      <td>0.0</td>\n",
       "      <td>1.0</td>\n",
       "      <td>1.0</td>\n",
       "      <td>0.0</td>\n",
       "      <td>0.0</td>\n",
       "      <td>0.0</td>\n",
       "      <td>1.0</td>\n",
       "    </tr>\n",
       "    <tr>\n",
       "      <th>1</th>\n",
       "      <td>1</td>\n",
       "      <td>0</td>\n",
       "      <td>1</td>\n",
       "      <td>38.0</td>\n",
       "      <td>1</td>\n",
       "      <td>0</td>\n",
       "      <td>71.2833</td>\n",
       "      <td>0</td>\n",
       "      <td>1.0</td>\n",
       "      <td>0.0</td>\n",
       "      <td>0.0</td>\n",
       "      <td>0.0</td>\n",
       "      <td>1.0</td>\n",
       "      <td>1.0</td>\n",
       "      <td>0.0</td>\n",
       "      <td>0.0</td>\n",
       "    </tr>\n",
       "    <tr>\n",
       "      <th>2</th>\n",
       "      <td>1</td>\n",
       "      <td>2</td>\n",
       "      <td>1</td>\n",
       "      <td>26.0</td>\n",
       "      <td>0</td>\n",
       "      <td>0</td>\n",
       "      <td>7.9250</td>\n",
       "      <td>2</td>\n",
       "      <td>0.0</td>\n",
       "      <td>0.0</td>\n",
       "      <td>1.0</td>\n",
       "      <td>0.0</td>\n",
       "      <td>1.0</td>\n",
       "      <td>0.0</td>\n",
       "      <td>0.0</td>\n",
       "      <td>1.0</td>\n",
       "    </tr>\n",
       "    <tr>\n",
       "      <th>3</th>\n",
       "      <td>1</td>\n",
       "      <td>0</td>\n",
       "      <td>1</td>\n",
       "      <td>35.0</td>\n",
       "      <td>1</td>\n",
       "      <td>0</td>\n",
       "      <td>53.1000</td>\n",
       "      <td>2</td>\n",
       "      <td>1.0</td>\n",
       "      <td>0.0</td>\n",
       "      <td>0.0</td>\n",
       "      <td>0.0</td>\n",
       "      <td>1.0</td>\n",
       "      <td>0.0</td>\n",
       "      <td>0.0</td>\n",
       "      <td>1.0</td>\n",
       "    </tr>\n",
       "    <tr>\n",
       "      <th>4</th>\n",
       "      <td>0</td>\n",
       "      <td>2</td>\n",
       "      <td>0</td>\n",
       "      <td>35.0</td>\n",
       "      <td>0</td>\n",
       "      <td>0</td>\n",
       "      <td>8.0500</td>\n",
       "      <td>2</td>\n",
       "      <td>0.0</td>\n",
       "      <td>0.0</td>\n",
       "      <td>1.0</td>\n",
       "      <td>1.0</td>\n",
       "      <td>0.0</td>\n",
       "      <td>0.0</td>\n",
       "      <td>0.0</td>\n",
       "      <td>1.0</td>\n",
       "    </tr>\n",
       "  </tbody>\n",
       "</table>\n",
       "</div>"
      ],
      "text/plain": [
       "   Survived  Pclass  Sex   Age  SibSp  Parch     Fare  Embarked  Pclass_0  \\\n",
       "0         0       2    0  22.0      1      0   7.2500         2       0.0   \n",
       "1         1       0    1  38.0      1      0  71.2833         0       1.0   \n",
       "2         1       2    1  26.0      0      0   7.9250         2       0.0   \n",
       "3         1       0    1  35.0      1      0  53.1000         2       1.0   \n",
       "4         0       2    0  35.0      0      0   8.0500         2       0.0   \n",
       "\n",
       "   Pclass_1  Pclass_2  Sex_0  Sex_1  Embarked_0  Embarked_1  Embarked_2  \n",
       "0       0.0       1.0    1.0    0.0         0.0         0.0         1.0  \n",
       "1       0.0       0.0    0.0    1.0         1.0         0.0         0.0  \n",
       "2       0.0       1.0    0.0    1.0         0.0         0.0         1.0  \n",
       "3       0.0       0.0    0.0    1.0         0.0         0.0         1.0  \n",
       "4       0.0       1.0    1.0    0.0         0.0         0.0         1.0  "
      ]
     },
     "execution_count": 226,
     "metadata": {},
     "output_type": "execute_result"
    }
   ],
   "source": [
    "cols = [\"Pclass\", \"Sex\", \"Embarked\"]\n",
    "counts = [3, 2, 3] # 범주 개수\n",
    "\n",
    "tr_ = pd.DataFrame(tr)\n",
    "tst_ = pd.DataFrame(tst)\n",
    "\n",
    "for c, count in zip(cols, counts):\n",
    "    for df in [tr_, tst_]:\n",
    "        n = df.shape[0]\n",
    "        arr = np.zeros((n, count))\n",
    "        arr[np.arange(n), df[c]] = 1\n",
    "        for i in range(count):\n",
    "            df[c + \"_\" + str(i)] = arr[:, i]\n",
    "            \n",
    "tr_.head()"
   ]
  },
  {
   "cell_type": "markdown",
   "id": "d8617478-a4ee-4874-bc2d-41f2b652e63c",
   "metadata": {},
   "source": [
    "범주형 데이터에 대한 정보는 one-hot encoding 이 된 열에 있기 때문에 원래 데이터는 삭제를 해주어도 된다.\n",
    "\n",
    "Age, Fare는 다른 데이터와 단위가 다르기 때문에 표준화 해 주자."
   ]
  },
  {
   "cell_type": "code",
   "execution_count": 227,
   "id": "6d51ad7e-57d1-4d70-9493-db05dab9f019",
   "metadata": {},
   "outputs": [
    {
     "data": {
      "text/html": [
       "<div>\n",
       "<style scoped>\n",
       "    .dataframe tbody tr th:only-of-type {\n",
       "        vertical-align: middle;\n",
       "    }\n",
       "\n",
       "    .dataframe tbody tr th {\n",
       "        vertical-align: top;\n",
       "    }\n",
       "\n",
       "    .dataframe thead th {\n",
       "        text-align: right;\n",
       "    }\n",
       "</style>\n",
       "<table border=\"1\" class=\"dataframe\">\n",
       "  <thead>\n",
       "    <tr style=\"text-align: right;\">\n",
       "      <th></th>\n",
       "      <th>Survived</th>\n",
       "      <th>Pclass</th>\n",
       "      <th>Sex</th>\n",
       "      <th>Age</th>\n",
       "      <th>SibSp</th>\n",
       "      <th>Parch</th>\n",
       "      <th>Fare</th>\n",
       "      <th>Embarked</th>\n",
       "      <th>Pclass_0</th>\n",
       "      <th>Pclass_1</th>\n",
       "      <th>Pclass_2</th>\n",
       "      <th>Sex_0</th>\n",
       "      <th>Sex_1</th>\n",
       "      <th>Embarked_0</th>\n",
       "      <th>Embarked_1</th>\n",
       "      <th>Embarked_2</th>\n",
       "    </tr>\n",
       "  </thead>\n",
       "  <tbody>\n",
       "    <tr>\n",
       "      <th>0</th>\n",
       "      <td>0</td>\n",
       "      <td>2</td>\n",
       "      <td>0</td>\n",
       "      <td>-0.592148</td>\n",
       "      <td>1</td>\n",
       "      <td>0</td>\n",
       "      <td>-0.502163</td>\n",
       "      <td>2</td>\n",
       "      <td>0.0</td>\n",
       "      <td>0.0</td>\n",
       "      <td>1.0</td>\n",
       "      <td>1.0</td>\n",
       "      <td>0.0</td>\n",
       "      <td>0.0</td>\n",
       "      <td>0.0</td>\n",
       "      <td>1.0</td>\n",
       "    </tr>\n",
       "    <tr>\n",
       "      <th>1</th>\n",
       "      <td>1</td>\n",
       "      <td>0</td>\n",
       "      <td>1</td>\n",
       "      <td>0.638430</td>\n",
       "      <td>1</td>\n",
       "      <td>0</td>\n",
       "      <td>0.786404</td>\n",
       "      <td>0</td>\n",
       "      <td>1.0</td>\n",
       "      <td>0.0</td>\n",
       "      <td>0.0</td>\n",
       "      <td>0.0</td>\n",
       "      <td>1.0</td>\n",
       "      <td>1.0</td>\n",
       "      <td>0.0</td>\n",
       "      <td>0.0</td>\n",
       "    </tr>\n",
       "    <tr>\n",
       "      <th>2</th>\n",
       "      <td>1</td>\n",
       "      <td>2</td>\n",
       "      <td>1</td>\n",
       "      <td>-0.284503</td>\n",
       "      <td>0</td>\n",
       "      <td>0</td>\n",
       "      <td>-0.488580</td>\n",
       "      <td>2</td>\n",
       "      <td>0.0</td>\n",
       "      <td>0.0</td>\n",
       "      <td>1.0</td>\n",
       "      <td>0.0</td>\n",
       "      <td>1.0</td>\n",
       "      <td>0.0</td>\n",
       "      <td>0.0</td>\n",
       "      <td>1.0</td>\n",
       "    </tr>\n",
       "    <tr>\n",
       "      <th>3</th>\n",
       "      <td>1</td>\n",
       "      <td>0</td>\n",
       "      <td>1</td>\n",
       "      <td>0.407697</td>\n",
       "      <td>1</td>\n",
       "      <td>0</td>\n",
       "      <td>0.420494</td>\n",
       "      <td>2</td>\n",
       "      <td>1.0</td>\n",
       "      <td>0.0</td>\n",
       "      <td>0.0</td>\n",
       "      <td>0.0</td>\n",
       "      <td>1.0</td>\n",
       "      <td>0.0</td>\n",
       "      <td>0.0</td>\n",
       "      <td>1.0</td>\n",
       "    </tr>\n",
       "    <tr>\n",
       "      <th>4</th>\n",
       "      <td>0</td>\n",
       "      <td>2</td>\n",
       "      <td>0</td>\n",
       "      <td>0.407697</td>\n",
       "      <td>0</td>\n",
       "      <td>0</td>\n",
       "      <td>-0.486064</td>\n",
       "      <td>2</td>\n",
       "      <td>0.0</td>\n",
       "      <td>0.0</td>\n",
       "      <td>1.0</td>\n",
       "      <td>1.0</td>\n",
       "      <td>0.0</td>\n",
       "      <td>0.0</td>\n",
       "      <td>0.0</td>\n",
       "      <td>1.0</td>\n",
       "    </tr>\n",
       "  </tbody>\n",
       "</table>\n",
       "</div>"
      ],
      "text/plain": [
       "   Survived  Pclass  Sex       Age  SibSp  Parch      Fare  Embarked  \\\n",
       "0         0       2    0 -0.592148      1      0 -0.502163         2   \n",
       "1         1       0    1  0.638430      1      0  0.786404         0   \n",
       "2         1       2    1 -0.284503      0      0 -0.488580         2   \n",
       "3         1       0    1  0.407697      1      0  0.420494         2   \n",
       "4         0       2    0  0.407697      0      0 -0.486064         2   \n",
       "\n",
       "   Pclass_0  Pclass_1  Pclass_2  Sex_0  Sex_1  Embarked_0  Embarked_1  \\\n",
       "0       0.0       0.0       1.0    1.0    0.0         0.0         0.0   \n",
       "1       1.0       0.0       0.0    0.0    1.0         1.0         0.0   \n",
       "2       0.0       0.0       1.0    0.0    1.0         0.0         0.0   \n",
       "3       1.0       0.0       0.0    0.0    1.0         0.0         0.0   \n",
       "4       0.0       0.0       1.0    1.0    0.0         0.0         0.0   \n",
       "\n",
       "   Embarked_2  \n",
       "0         1.0  \n",
       "1         0.0  \n",
       "2         1.0  \n",
       "3         1.0  \n",
       "4         1.0  "
      ]
     },
     "execution_count": 227,
     "metadata": {},
     "output_type": "execute_result"
    }
   ],
   "source": [
    "for df in [tr_, tst_]:\n",
    "    for c in [\"Age\", \"Fare\"]:\n",
    "        df[c] = (df[c] - df[c].mean()) / df[c].std()\n",
    "    df = df.drop([\"Pclass\", \"Sex\", \"Embarked\"], axis=1)\n",
    "    \n",
    "tr_.head()"
   ]
  },
  {
   "cell_type": "markdown",
   "id": "7070f5ab-97af-4539-9e30-ecc424d7fbe2",
   "metadata": {},
   "source": [
    "다중공선성 확인을 위해 상관계수를 구해보자. 만약 상관관계가 높은 열이 있다면 삭제를 고려 할 수 있다. 상관계수의 절댓값이 0.5보다 높은 경우를 출력 해보자."
   ]
  },
  {
   "cell_type": "code",
   "execution_count": 228,
   "id": "a9a993a4-7b4f-484e-bcc1-b068ea786083",
   "metadata": {},
   "outputs": [
    {
     "name": "stdout",
     "output_type": "stream",
     "text": [
      "Pclass Fare -0.5494996199439073\n",
      "Pclass Pclass_0 -0.8859238618875533\n",
      "Pclass Pclass_2 0.9166727522685237\n",
      "Sex Sex_0 -0.9999999999999999\n",
      "Sex Sex_1 1.0\n",
      "Fare Pclass_0 0.591710718883511\n",
      "Embarked Embarked_0 -0.9362730393120979\n",
      "Embarked Embarked_2 0.951473826059107\n",
      "Pclass_0 Pclass_2 -0.6267375846396959\n",
      "Pclass_1 Pclass_2 -0.565210153553826\n",
      "Sex_0 Sex_1 -1.0\n",
      "Embarked_0 Embarked_2 -0.7827421287187312\n"
     ]
    }
   ],
   "source": [
    "for n, i in enumerate(tr_.columns):\n",
    "    for j in tr_.columns[n + 1:]:\n",
    "        if i == j or  i == \"Survived\" or j == \"Survived\":\n",
    "            continue\n",
    "        if abs(tr_.corr()[i][j]) > 0.5:\n",
    "            print(i, j, tr_.corr()[i][j])"
   ]
  },
  {
   "cell_type": "markdown",
   "id": "cb747b5d-16cf-412c-aad9-e3cc82ad51a1",
   "metadata": {},
   "source": [
    "Fare 가 Pclass_0 과 높은 상관관계를 가지고 있음을 볼 수 있다. 따라서 Fare 를 삭제 해주자.\n",
    "- 사실 다중공선성 문제에 대처 할 때에는, 위와 같이 무작정 삭제하는 방법을 좋지 않고, 실제 데이터를 시각화 하여 판단하거나, 도메인 지식을 근거로 삭제하는 등 더욱 심도 있는 작업이 필요하다."
   ]
  },
  {
   "cell_type": "code",
   "execution_count": 229,
   "id": "b6c4855e-0de5-488d-8427-31cdcaa3d590",
   "metadata": {},
   "outputs": [],
   "source": [
    "tr_ = tr_.drop([\"Fare\"], axis=1)\n",
    "tst_ = tst_.drop([\"Fare\"], axis=1)"
   ]
  },
  {
   "cell_type": "markdown",
   "id": "21ea97a9-cc62-4d48-a62c-b7ccf7870616",
   "metadata": {},
   "source": [
    "데이터 전처리 작업을 마치고 모델을 선택 해 보자. 먼저 대표적인 분류 모델인 로지스틱 회귀모델을 이용 해보자."
   ]
  },
  {
   "cell_type": "code",
   "execution_count": 300,
   "id": "a0baf6de-5001-42eb-a4a6-0e0fe4fcb5f3",
   "metadata": {},
   "outputs": [],
   "source": [
    "from sklearn.linear_model import LogisticRegression\n",
    "from sklearn.model_selection import train_test_split"
   ]
  },
  {
   "cell_type": "code",
   "execution_count": 301,
   "id": "f8be32d1-d402-48d5-ab6a-42e83c4aa788",
   "metadata": {},
   "outputs": [
    {
     "data": {
      "text/plain": [
       "(891, 14)"
      ]
     },
     "execution_count": 301,
     "metadata": {},
     "output_type": "execute_result"
    }
   ],
   "source": [
    "X = np.array(tr_.drop([\"Survived\"], axis=1))\n",
    "y = np.array(tr_[\"Survived\"])\n",
    "\n",
    "X.shape"
   ]
  },
  {
   "cell_type": "code",
   "execution_count": 302,
   "id": "8bd33a8a-816e-4805-91dd-61946d872df9",
   "metadata": {},
   "outputs": [
    {
     "data": {
      "text/plain": [
       "((623, 14), (268, 14))"
      ]
     },
     "execution_count": 302,
     "metadata": {},
     "output_type": "execute_result"
    }
   ],
   "source": [
    "X_tr, X_tst, y_tr, y_tst = train_test_split(X, y, test_size=0.3)\n",
    "\n",
    "X_tr.shape, X_tst.shape"
   ]
  },
  {
   "cell_type": "code",
   "execution_count": 303,
   "id": "8ae30345-aaf6-47e6-a7e3-7504dd082577",
   "metadata": {},
   "outputs": [
    {
     "data": {
      "text/plain": [
       "0.8283582089552238"
      ]
     },
     "execution_count": 303,
     "metadata": {},
     "output_type": "execute_result"
    }
   ],
   "source": [
    "model = LogisticRegression()\n",
    "model.fit(X_tr, y_tr)\n",
    "\n",
    "y_hat = model.predict(X_tst)\n",
    "\n",
    "np.sum(y_tst==y_hat) / y_hat.shape[0]"
   ]
  },
  {
   "cell_type": "markdown",
   "id": "6327217a-fb48-487b-bc5a-2cec86e1b1b6",
   "metadata": {},
   "source": [
    "다음으로 knn 모델을 써보자."
   ]
  },
  {
   "cell_type": "code",
   "execution_count": 304,
   "id": "965fac31-c9ff-4951-9c80-d0b09e8ab2bf",
   "metadata": {},
   "outputs": [],
   "source": [
    "from sklearn.neighbors import KNeighborsClassifier"
   ]
  },
  {
   "cell_type": "code",
   "execution_count": 305,
   "id": "a155ec62-ab07-4078-9e26-d72f725c9dcf",
   "metadata": {},
   "outputs": [
    {
     "name": "stdout",
     "output_type": "stream",
     "text": [
      "1 0.7574626865671642\n",
      "3 0.7723880597014925\n",
      "5 0.7798507462686567\n",
      "7 0.8134328358208955\n",
      "9 0.8022388059701493\n",
      "11 0.8059701492537313\n",
      "13 0.8022388059701493\n",
      "15 0.8059701492537313\n",
      "17 0.8022388059701493\n",
      "19 0.8022388059701493\n",
      "21 0.7985074626865671\n",
      "23 0.7985074626865671\n"
     ]
    }
   ],
   "source": [
    "for k in range(1, 25, 2):\n",
    "    knn = KNeighborsClassifier(n_neighbors=k)\n",
    "    knn.fit(X_tr, y_tr)\n",
    "    y_hat = knn.predict(X_tst)\n",
    "    \n",
    "    print(k, np.sum(y_tst==y_hat) / y_tst.shape[0])"
   ]
  },
  {
   "cell_type": "markdown",
   "id": "38310609-df91-4323-864a-7c4d83360e21",
   "metadata": {},
   "source": [
    "K=11 일 때의 모델이 가장 좋은 성능을 보인다.\n",
    "\n",
    "두 모델을 합쳐서 테스트 해보자. 즉, 두 모델이 출력하는 확률의 평균을 이용 해 보자."
   ]
  },
  {
   "cell_type": "code",
   "execution_count": 306,
   "id": "2377b31a-f14a-488f-b928-f12a6931866e",
   "metadata": {},
   "outputs": [
    {
     "data": {
      "text/plain": [
       "0.832089552238806"
      ]
     },
     "execution_count": 306,
     "metadata": {},
     "output_type": "execute_result"
    }
   ],
   "source": [
    "knn = KNeighborsClassifier(n_neighbors=11)\n",
    "knn.fit(X_tr, y_tr)\n",
    "\n",
    "log_prob = model.predict_proba(X_tst)\n",
    "knn_prob = knn.predict_proba(X_tst)\n",
    "\n",
    "y_prob = (log_prob + knn_prob) / 2\n",
    "y_hat = np.argmax(y_prob, axis=1)\n",
    "\n",
    "np.sum(y_tst==y_hat) / y_tst.shape[0]"
   ]
  },
  {
   "cell_type": "markdown",
   "id": "2bc6b1d6-58af-4b65-81da-c1b305ed867d",
   "metadata": {},
   "source": [
    "정답 파일을 만들어 제출한다."
   ]
  },
  {
   "cell_type": "code",
   "execution_count": 310,
   "id": "deba9086-5ebd-4809-891f-f679be7a0046",
   "metadata": {},
   "outputs": [
    {
     "data": {
      "text/html": [
       "<div>\n",
       "<style scoped>\n",
       "    .dataframe tbody tr th:only-of-type {\n",
       "        vertical-align: middle;\n",
       "    }\n",
       "\n",
       "    .dataframe tbody tr th {\n",
       "        vertical-align: top;\n",
       "    }\n",
       "\n",
       "    .dataframe thead th {\n",
       "        text-align: right;\n",
       "    }\n",
       "</style>\n",
       "<table border=\"1\" class=\"dataframe\">\n",
       "  <thead>\n",
       "    <tr style=\"text-align: right;\">\n",
       "      <th></th>\n",
       "      <th>PassengerID</th>\n",
       "      <th>Survived</th>\n",
       "    </tr>\n",
       "  </thead>\n",
       "  <tbody>\n",
       "    <tr>\n",
       "      <th>0</th>\n",
       "      <td>892</td>\n",
       "      <td>0</td>\n",
       "    </tr>\n",
       "    <tr>\n",
       "      <th>1</th>\n",
       "      <td>893</td>\n",
       "      <td>0</td>\n",
       "    </tr>\n",
       "    <tr>\n",
       "      <th>2</th>\n",
       "      <td>894</td>\n",
       "      <td>0</td>\n",
       "    </tr>\n",
       "    <tr>\n",
       "      <th>3</th>\n",
       "      <td>895</td>\n",
       "      <td>0</td>\n",
       "    </tr>\n",
       "    <tr>\n",
       "      <th>4</th>\n",
       "      <td>896</td>\n",
       "      <td>0</td>\n",
       "    </tr>\n",
       "  </tbody>\n",
       "</table>\n",
       "</div>"
      ],
      "text/plain": [
       "   PassengerID  Survived\n",
       "0          892         0\n",
       "1          893         0\n",
       "2          894         0\n",
       "3          895         0\n",
       "4          896         0"
      ]
     },
     "execution_count": 310,
     "metadata": {},
     "output_type": "execute_result"
    }
   ],
   "source": [
    "tst_original = pd.read_csv(\"./data/test.csv\")\n",
    "ans = pd.DataFrame()\n",
    "\n",
    "log_prob = model.predict_proba(np.array(tst_))\n",
    "knn_prob = knn.predict_proba(np.array(tst_))\n",
    "y_prob = (log_prob + knn_prob) / 2\n",
    "y_hat = np.argmax(y_prob, axis=1)\n",
    "\n",
    "ans[\"PassengerID\"] = tst_original[\"PassengerId\"]\n",
    "ans[\"Survived\"] = y_hat\n",
    "\n",
    "ans.head()"
   ]
  },
  {
   "cell_type": "code",
   "execution_count": 311,
   "id": "8d39a2a4-7017-4d3f-b10a-8ca20e3e4a64",
   "metadata": {},
   "outputs": [],
   "source": [
    "ans.to_csv(\"./data/ans.csv\", index=False)"
   ]
  },
  {
   "cell_type": "markdown",
   "id": "5168aa8d-40a7-4f82-9fab-4f775ac6889b",
   "metadata": {},
   "source": [
    "위 모델을 0.77990 점을 받았다. 더 높은 점수를 받을 수 있는 방법을 생각해보자."
   ]
  },
  {
   "cell_type": "code",
   "execution_count": null,
   "id": "b36982a4-0aaf-48af-9732-e9e47d83445e",
   "metadata": {},
   "outputs": [],
   "source": []
  }
 ],
 "metadata": {
  "kernelspec": {
   "display_name": "Python 3",
   "language": "python",
   "name": "python3"
  },
  "language_info": {
   "codemirror_mode": {
    "name": "ipython",
    "version": 3
   },
   "file_extension": ".py",
   "mimetype": "text/x-python",
   "name": "python",
   "nbconvert_exporter": "python",
   "pygments_lexer": "ipython3",
   "version": "3.9.0"
  }
 },
 "nbformat": 4,
 "nbformat_minor": 5
}
